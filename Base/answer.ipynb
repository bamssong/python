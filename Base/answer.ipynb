{
 "cells": [
  {
   "cell_type": "markdown",
   "metadata": {},
   "source": [
    "# if문"
   ]
  },
  {
   "cell_type": "markdown",
   "metadata": {},
   "source": [
    "### 문제 : 입력을 받은 값에 'hello' 단어가 있는지 알려주는 코드 작성\n",
    "1. 사용자 입력을 받는다.\n",
    "2. 'hello' 있는지 확인"
   ]
  },
  {
   "cell_type": "code",
   "execution_count": null,
   "metadata": {},
   "outputs": [],
   "source": [
    "value = input()\n",
    "\n",
    "if 'hello' in value:\n",
    "    print('hello 단어가 있습니다.')\n",
    "else:\n",
    "    print('hello 단어가 없습니다.')"
   ]
  },
  {
   "cell_type": "code",
   "execution_count": null,
   "metadata": {},
   "outputs": [],
   "source": [
    "value = input()\n",
    "\n",
    "if value.find('hello') != -1:\n",
    "    print('hello 단어가 있습니다.')\n",
    "else:\n",
    "    print('hello 단어가 없습니다.')"
   ]
  },
  {
   "cell_type": "markdown",
   "metadata": {},
   "source": [
    "### 문제 : 입력 받은 값이 정수인지 확인, 0이상인지 판별하는 코드 작성\n",
    "1. 사용자 입력을 받는다.\n",
    "2. 입력 받은값이 정수인지 확인한다.\n",
    "3. 정수이면, 0 이상인지 알려준다."
   ]
  },
  {
   "cell_type": "code",
   "execution_count": 11,
   "metadata": {},
   "outputs": [
    {
     "name": "stdin",
     "output_type": "stream",
     "text": [
      " 0\n"
     ]
    },
    {
     "name": "stdout",
     "output_type": "stream",
     "text": [
      "0 이상입니다 : 0\n"
     ]
    }
   ],
   "source": [
    "value = input()\n",
    "try:\n",
    "    value = int(value)\n",
    "except:\n",
    "    print('정수가 아닙니다.')\n",
    "\n",
    "if value >= 0:\n",
    "    print('0 이상입니다 :',value)\n",
    "else:\n",
    "    print('0 미만입니다')"
   ]
  },
  {
   "cell_type": "markdown",
   "metadata": {},
   "source": [
    "# While문"
   ]
  },
  {
   "cell_type": "markdown",
   "metadata": {},
   "source": [
    "### 문제 : 입력 'exit'를 받을 때까지 종료되지 않으며, 입력 받은 값에 'hello' 단어가 있는지 알려주는 코드 작성\n",
    "1. 사용자 입력을 받는다.\n",
    "2. 'exit'면 종료한다.\n",
    "3. 'exit'가 아니면, 'hello' 있는지 확인한다."
   ]
  },
  {
   "cell_type": "code",
   "execution_count": 4,
   "metadata": {},
   "outputs": [
    {
     "name": "stdin",
     "output_type": "stream",
     "text": [
      " a\n"
     ]
    },
    {
     "name": "stdout",
     "output_type": "stream",
     "text": [
      "hello 단어가 없습니다.\n"
     ]
    },
    {
     "name": "stdin",
     "output_type": "stream",
     "text": [
      " b\n"
     ]
    },
    {
     "name": "stdout",
     "output_type": "stream",
     "text": [
      "hello 단어가 없습니다.\n"
     ]
    },
    {
     "name": "stdin",
     "output_type": "stream",
     "text": [
      " hello\n"
     ]
    },
    {
     "name": "stdout",
     "output_type": "stream",
     "text": [
      "hello 단어가 있습니다.\n"
     ]
    },
    {
     "name": "stdin",
     "output_type": "stream",
     "text": [
      " exit\n"
     ]
    }
   ],
   "source": [
    "while True:\n",
    "    value = input()\n",
    "    if value == 'exit':\n",
    "        break\n",
    "    \n",
    "    if 'hello' in value:\n",
    "        print('hello 단어가 있습니다.')\n",
    "    else:\n",
    "        print('hello 단어가 없습니다.')"
   ]
  },
  {
   "cell_type": "markdown",
   "metadata": {},
   "source": [
    "### 문제 : 3의 배수의 합\n",
    "1. 1부터 1000까지의 자연수 중 3의 배수의 합을 구하시오."
   ]
  },
  {
   "cell_type": "code",
   "execution_count": 6,
   "metadata": {},
   "outputs": [
    {
     "name": "stdout",
     "output_type": "stream",
     "text": [
      "sum :  166833\n"
     ]
    }
   ],
   "source": [
    "value = 1\n",
    "sum_value = 0\n",
    "while value <= 1000:\n",
    "    if value % 3 == 0:\n",
    "        sum_value += value\n",
    "    value += 1\n",
    "\n",
    "print('sum : ',sum_value)"
   ]
  },
  {
   "cell_type": "markdown",
   "metadata": {},
   "source": [
    "### 문제 : 50점 이상의 총합\n",
    "1. 다음은 A학급 학생의 점수를 나타내는 리스트이다. 다음 리스트에서 50점 이상의 점수들의 총합을 구하시오.\n",
    "2. A = (20, 55, 67, 82, 45, 33, 90, 87, 100, 25)"
   ]
  },
  {
   "cell_type": "code",
   "execution_count": 10,
   "metadata": {},
   "outputs": [
    {
     "name": "stdout",
     "output_type": "stream",
     "text": [
      "sum : 481\n"
     ]
    }
   ],
   "source": [
    "A = (20, 55, 67, 82, 45, 33, 90, 87, 100, 25)\n",
    "sum_vaule = 0\n",
    "index = 0\n",
    "\n",
    "while index < len(A) :\n",
    "    if A[index] >= 50:\n",
    "        sum_vaule += A[index]\n",
    "    index = index + 1\n",
    "print('sum :',sum_vaule)"
   ]
  },
  {
   "cell_type": "markdown",
   "metadata": {},
   "source": [
    "# for문"
   ]
  },
  {
   "cell_type": "markdown",
   "metadata": {},
   "source": [
    "### 문제 : 50점 이상의 총합\n",
    "1. 다음은 A학급 학생의 점수를 나타내는 리스트이다. 다음 리스트에서 50점 이상의 점수들의 총합을 구하시오.\n",
    "2. A = (20, 55, 67, 82, 45, 33, 90, 87, 100, 25) ,튜플 사용할 것."
   ]
  },
  {
   "cell_type": "code",
   "execution_count": 1,
   "metadata": {},
   "outputs": [
    {
     "name": "stdout",
     "output_type": "stream",
     "text": [
      "sum : 481\n"
     ]
    }
   ],
   "source": [
    "A = (20, 55, 67, 82, 45, 33, 90, 87, 100, 25)\n",
    "sum_vaule = 0\n",
    "\n",
    "for value in A:\n",
    "    if value >= 50:\n",
    "        sum_vaule += value\n",
    "\n",
    "print('sum :',sum_vaule)"
   ]
  },
  {
   "cell_type": "markdown",
   "metadata": {},
   "source": [
    "# 함수"
   ]
  },
  {
   "cell_type": "markdown",
   "metadata": {},
   "source": [
    "### 홀수 짝수 판별\n",
    "입력 받은 수 홀/짝 판별 함수 만들기"
   ]
  },
  {
   "cell_type": "code",
   "execution_count": 5,
   "metadata": {},
   "outputs": [
    {
     "name": "stdin",
     "output_type": "stream",
     "text": [
      "숫자만 입력해주세요. 4\n"
     ]
    },
    {
     "data": {
      "text/plain": [
       "False"
      ]
     },
     "execution_count": 5,
     "metadata": {},
     "output_type": "execute_result"
    }
   ],
   "source": [
    "def is_old_number(number):\n",
    "    return number % 2 != 0\n",
    "\n",
    "value = int(input('숫자만 입력해주세요.'))\n",
    "is_old_number(value)"
   ]
  },
  {
   "cell_type": "code",
   "execution_count": 8,
   "metadata": {},
   "outputs": [
    {
     "name": "stdin",
     "output_type": "stream",
     "text": [
      "숫자만 입력해주세요. 4\n"
     ]
    },
    {
     "data": {
      "text/plain": [
       "False"
      ]
     },
     "execution_count": 8,
     "metadata": {},
     "output_type": "execute_result"
    }
   ],
   "source": [
    "is_old_number = lambda number : number % 2 != 0\n",
    "\n",
    "value = int(input('숫자만 입력해주세요.'))\n",
    "\n",
    "is_old_number(value)"
   ]
  },
  {
   "cell_type": "markdown",
   "metadata": {},
   "source": [
    "### 평균값 계산\n",
    "입력 제한 없이, 평균값을 계산해주는 함수 만들기"
   ]
  },
  {
   "cell_type": "code",
   "execution_count": 10,
   "metadata": {},
   "outputs": [
    {
     "name": "stdin",
     "output_type": "stream",
     "text": [
      "숫자만 입력(종료:Q) :  1\n",
      "숫자만 입력(종료:Q) :  2\n",
      "숫자만 입력(종료:Q) :  3\n",
      "숫자만 입력(종료:Q) :  4\n",
      "숫자만 입력(종료:Q) :  q\n"
     ]
    },
    {
     "data": {
      "text/plain": [
       "2.5"
      ]
     },
     "execution_count": 10,
     "metadata": {},
     "output_type": "execute_result"
    }
   ],
   "source": [
    "def average(number):\n",
    "    sum = 0\n",
    "    for num in number:\n",
    "        sum += num\n",
    "    return sum/len(number)\n",
    "\n",
    "list = []\n",
    "while True:\n",
    "    value = input('숫자만 입력(종료:Q) : ')\n",
    "    if(value == 'Q' or value == 'q'):\n",
    "        break\n",
    "    else:\n",
    "        list.append(int(value))\n",
    "    \n",
    "average(list)"
   ]
  },
  {
   "cell_type": "markdown",
   "metadata": {},
   "source": [
    "### reduce 함수를 이용해서 가장 큰수 찾기\n",
    "\n",
    "[34, 76, 29, 96, 68]"
   ]
  },
  {
   "cell_type": "code",
   "execution_count": 11,
   "metadata": {},
   "outputs": [
    {
     "data": {
      "text/plain": [
       "96"
      ]
     },
     "execution_count": 11,
     "metadata": {},
     "output_type": "execute_result"
    }
   ],
   "source": [
    "from functools import reduce\n",
    "\n",
    "reduce(lambda x,y: x if x > y else y,[34, 76, 29, 96, 68])"
   ]
  }
 ],
 "metadata": {
  "kernelspec": {
   "display_name": "Python 3",
   "language": "python",
   "name": "python3"
  },
  "language_info": {
   "codemirror_mode": {
    "name": "ipython",
    "version": 3
   },
   "file_extension": ".py",
   "mimetype": "text/x-python",
   "name": "python",
   "nbconvert_exporter": "python",
   "pygments_lexer": "ipython3",
   "version": "3.6.8"
  }
 },
 "nbformat": 4,
 "nbformat_minor": 2
}
