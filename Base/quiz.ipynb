{
 "cells": [
  {
   "cell_type": "markdown",
   "metadata": {},
   "source": [
    "# if문"
   ]
  },
  {
   "cell_type": "markdown",
   "metadata": {},
   "source": [
    "### 문제 : 입력을 받은 값에 'hello' 단어가 있는지 알려주는 코드 작성\n",
    "1. 사용자 입력을 받는다.\n",
    "2. 'hello' 있는지 확인\n",
    "\n",
    "\n",
    "```\n",
    "# 입력값 받기 코드 : value = input()\n",
    "```"
   ]
  },
  {
   "cell_type": "markdown",
   "metadata": {},
   "source": [
    "### 문제 : 입력 받은 값이 정수인지 확인, 0이상인지 판별하는 코드 작성\n",
    "1. 사용자 입력을 받는다.\n",
    "2. 입력 받은값이 정수인지 확인한다.\n",
    "3. 정수이면, 0 이상인지 알려준다.\n",
    "\n",
    "```\n",
    "# 입력값 받기 코드 : value = input()\n",
    "# 입력 받은 값 정수로 변환 : value = int(value), try ~ except : \n",
    "```"
   ]
  },
  {
   "cell_type": "markdown",
   "metadata": {},
   "source": [
    "# while문"
   ]
  },
  {
   "cell_type": "markdown",
   "metadata": {},
   "source": [
    "### 문제 : 입력 'exit'를 받을 때까지 종료되지 않으며, 입력 받은 값에 'hello' 단어가 있는지 알려주는 코드 작성\n",
    "1. 사용자 입력을 받는다.\n",
    "2. 'exit'면 종료한다.\n",
    "3. 'exit'가 아니면, 'hello' 있는지 확인한다."
   ]
  },
  {
   "cell_type": "markdown",
   "metadata": {},
   "source": [
    "### 문제 : 3의 배수의 합\n",
    "1. 1부터 1000까지의 자연수 중 3의 배수의 합을 구하시오."
   ]
  },
  {
   "cell_type": "markdown",
   "metadata": {},
   "source": [
    "### 문제 : 50점 이상의 총합\n",
    "1. 다음은 A학급 학생의 점수를 나타내는 리스트이다. 다음 리스트에서 50점 이상의 점수들의 총합을 구하시오.\n",
    "2. A = (20, 55, 67, 82, 45, 33, 90, 87, 100, 25) ,튜플 사용할 것."
   ]
  },
  {
   "cell_type": "markdown",
   "metadata": {},
   "source": [
    "# for문"
   ]
  },
  {
   "cell_type": "markdown",
   "metadata": {},
   "source": [
    "### 문제 : 50점 이상의 총합\n",
    "1. 다음은 A학급 학생의 점수를 나타내는 리스트이다. 다음 리스트에서 50점 이상의 점수들의 총합을 구하시오.\n",
    "2. A = (20, 55, 67, 82, 45, 33, 90, 87, 100, 25) ,튜플 사용할 것."
   ]
  },
  {
   "cell_type": "code",
   "execution_count": null,
   "metadata": {},
   "outputs": [],
   "source": []
  }
 ],
 "metadata": {
  "kernelspec": {
   "display_name": "Python 3",
   "language": "python",
   "name": "python3"
  },
  "language_info": {
   "codemirror_mode": {
    "name": "ipython",
    "version": 3
   },
   "file_extension": ".py",
   "mimetype": "text/x-python",
   "name": "python",
   "nbconvert_exporter": "python",
   "pygments_lexer": "ipython3",
   "version": "3.6.8"
  }
 },
 "nbformat": 4,
 "nbformat_minor": 2
}
