{
 "cells": [
  {
   "cell_type": "markdown",
   "metadata": {},
   "source": [
    "# if문,for문,while문 사용하기 "
   ]
  },
  {
   "cell_type": "markdown",
   "metadata": {},
   "source": [
    "## if문 사용하기"
   ]
  },
  {
   "cell_type": "code",
   "execution_count": 2,
   "metadata": {},
   "outputs": [
    {
     "name": "stdout",
     "output_type": "stream",
     "text": [
      "not find\n"
     ]
    }
   ],
   "source": [
    "#<, >, ==, !=, >=, <= >>>\n",
    "value = 'hello world'\n",
    "if value == 'h':\n",
    "    print('find h')\n",
    "elif value == 'te':\n",
    "    print('find te')\n",
    "else:\n",
    "    print('not find')"
   ]
  },
  {
   "cell_type": "code",
   "execution_count": 3,
   "metadata": {},
   "outputs": [
    {
     "name": "stdout",
     "output_type": "stream",
     "text": [
      "find world\n"
     ]
    }
   ],
   "source": [
    "if value.find('world'):\n",
    "    print('find world')"
   ]
  },
  {
   "cell_type": "code",
   "execution_count": 5,
   "metadata": {},
   "outputs": [
    {
     "name": "stdout",
     "output_type": "stream",
     "text": [
      "10  == 10\n",
      "10  >= 10\n",
      "10  <= 10\n"
     ]
    }
   ],
   "source": [
    "value = 10\n",
    "if value == 10:\n",
    "    print(value, ' == 10')\n",
    "if value >= 10:\n",
    "    print(value, ' >= 10')\n",
    "if value > 10:\n",
    "    print(value, ' > 10')\n",
    "if value <= 10:\n",
    "    print(value, ' <= 10')\n",
    "if value < 10:\n",
    "    print(value, ' < 10')\n",
    "if value != 10:\n",
    "    print(value, ' != 10')"
   ]
  },
  {
   "cell_type": "code",
   "execution_count": 1,
   "metadata": {},
   "outputs": [
    {
     "name": "stdout",
     "output_type": "stream",
     "text": [
      "봇 : 택시 탈 수 있어요.\n"
     ]
    }
   ],
   "source": [
    "# and, or, not\n",
    "money = 2000\n",
    "card = True\n",
    "# 택시를 타고 싶으면, 3000원 이상, 또는 카드를 가지고 있어야 탈 수 있다.\n",
    "if money >= 3000 or card:\n",
    "    print(\"봇 : 택시 탈 수 있어요.\")\n",
    "else:\n",
    "    print(\"봇 : 걸어가세요.\")"
   ]
  },
  {
   "cell_type": "code",
   "execution_count": 8,
   "metadata": {},
   "outputs": [
    {
     "data": {
      "text/plain": [
       "True"
      ]
     },
     "execution_count": 8,
     "metadata": {},
     "output_type": "execute_result"
    }
   ],
   "source": [
    "card = 'mycard'\n",
    "other_card = '???'\n",
    "\n",
    "card is not other_card"
   ]
  },
  {
   "cell_type": "code",
   "execution_count": null,
   "metadata": {},
   "outputs": [],
   "source": [
    "not card is other_card "
   ]
  },
  {
   "cell_type": "code",
   "execution_count": 15,
   "metadata": {},
   "outputs": [
    {
     "name": "stdout",
     "output_type": "stream",
     "text": [
      "not card\n"
     ]
    }
   ],
   "source": [
    "value = ''\n",
    "if not value: #if len(mylist) == 0\n",
    "    print('empty value')\n",
    "else:\n",
    "    print('value')"
   ]
  },
  {
   "cell_type": "code",
   "execution_count": null,
   "metadata": {},
   "outputs": [],
   "source": []
  },
  {
   "cell_type": "code",
   "execution_count": null,
   "metadata": {},
   "outputs": [],
   "source": []
  },
  {
   "cell_type": "code",
   "execution_count": null,
   "metadata": {},
   "outputs": [],
   "source": []
  },
  {
   "cell_type": "code",
   "execution_count": null,
   "metadata": {},
   "outputs": [],
   "source": []
  },
  {
   "cell_type": "code",
   "execution_count": null,
   "metadata": {},
   "outputs": [],
   "source": []
  },
  {
   "cell_type": "code",
   "execution_count": null,
   "metadata": {},
   "outputs": [],
   "source": []
  },
  {
   "cell_type": "code",
   "execution_count": null,
   "metadata": {},
   "outputs": [],
   "source": []
  },
  {
   "cell_type": "code",
   "execution_count": null,
   "metadata": {},
   "outputs": [],
   "source": []
  },
  {
   "cell_type": "markdown",
   "metadata": {},
   "source": [
    "## for문 사용하기"
   ]
  },
  {
   "cell_type": "code",
   "execution_count": null,
   "metadata": {},
   "outputs": [],
   "source": []
  },
  {
   "cell_type": "markdown",
   "metadata": {},
   "source": [
    "## While문 사용하기"
   ]
  },
  {
   "cell_type": "code",
   "execution_count": null,
   "metadata": {},
   "outputs": [],
   "source": []
  }
 ],
 "metadata": {
  "kernelspec": {
   "display_name": "Python 3",
   "language": "python",
   "name": "python3"
  },
  "language_info": {
   "codemirror_mode": {
    "name": "ipython",
    "version": 3
   },
   "file_extension": ".py",
   "mimetype": "text/x-python",
   "name": "python",
   "nbconvert_exporter": "python",
   "pygments_lexer": "ipython3",
   "version": "3.6.8"
  }
 },
 "nbformat": 4,
 "nbformat_minor": 2
}
