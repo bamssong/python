{
 "cells": [
  {
   "cell_type": "markdown",
   "metadata": {},
   "source": [
    "# 함수"
   ]
  },
  {
   "cell_type": "code",
   "execution_count": 2,
   "metadata": {},
   "outputs": [
    {
     "data": {
      "text/plain": [
       "15"
      ]
     },
     "execution_count": 2,
     "metadata": {},
     "output_type": "execute_result"
    }
   ],
   "source": [
    "def add(a, b):\n",
    "    return a+b\n",
    "\n",
    "add(5,10)"
   ]
  },
  {
   "cell_type": "code",
   "execution_count": 10,
   "metadata": {},
   "outputs": [
    {
     "data": {
      "text/plain": [
       "(15, 50)"
      ]
     },
     "execution_count": 10,
     "metadata": {},
     "output_type": "execute_result"
    }
   ],
   "source": [
    "def add_and_mul(a,b):\n",
    "    return a+b,a*b\n",
    "\n",
    "add_and_mul(5,10)"
   ]
  },
  {
   "cell_type": "markdown",
   "metadata": {},
   "source": [
    "## 매개변수 지정하여 호출하기"
   ]
  },
  {
   "cell_type": "code",
   "execution_count": 3,
   "metadata": {},
   "outputs": [
    {
     "data": {
      "text/plain": [
       "10"
      ]
     },
     "execution_count": 3,
     "metadata": {},
     "output_type": "execute_result"
    }
   ],
   "source": [
    "add(b=3, a=7)"
   ]
  },
  {
   "cell_type": "markdown",
   "metadata": {},
   "source": [
    "## 키워드 파라미터 '*'\n",
    "튜플로 생성된다."
   ]
  },
  {
   "cell_type": "code",
   "execution_count": 5,
   "metadata": {},
   "outputs": [
    {
     "data": {
      "text/plain": [
       "15"
      ]
     },
     "execution_count": 5,
     "metadata": {},
     "output_type": "execute_result"
    }
   ],
   "source": [
    "def add_many(*number): \n",
    "    result = 0 \n",
    "    for i in number: \n",
    "        result = result + i \n",
    "    return result \n",
    "\n",
    "add_many(1,2,3,4,5)"
   ]
  },
  {
   "cell_type": "markdown",
   "metadata": {},
   "source": [
    "## 키워드 파라미터 '**'\n",
    "딕셔너리 생성된다."
   ]
  },
  {
   "cell_type": "code",
   "execution_count": 8,
   "metadata": {},
   "outputs": [
    {
     "name": "stdout",
     "output_type": "stream",
     "text": [
      "{'a': 1}\n",
      "{'id': 1, 'name': '홍길동', 'phone': '01012347777'}\n"
     ]
    }
   ],
   "source": [
    "def print_kwargs(**user):\n",
    "    print(user)\n",
    "\n",
    "print_kwargs(a=1)\n",
    "print_kwargs(id=1,name='홍길동',phone='01012347777')"
   ]
  },
  {
   "cell_type": "markdown",
   "metadata": {},
   "source": [
    "## 매개변수 초기값"
   ]
  },
  {
   "cell_type": "code",
   "execution_count": 17,
   "metadata": {},
   "outputs": [
    {
     "name": "stdout",
     "output_type": "stream",
     "text": [
      "name : 홍길동\n",
      "age : 25\n",
      "gender : MAN\n",
      "\n",
      "name : 홍길순\n",
      "age : 23\n",
      "gender : WOMAN\n",
      "\n",
      "name : 홍길냥\n",
      "age : 3\n",
      "gender : MAN\n",
      "\n"
     ]
    }
   ],
   "source": [
    "# gender = \"M\",\"W\"\n",
    "def printUser(name, age, gender='M'):\n",
    "    print(\"name : %s\"%name)\n",
    "    print(\"age : %d\"%age)\n",
    "    print(\"gender : %s\"%('MAN' if gender == 'M' else 'WOMAN'),end='\\n\\n')\n",
    "\n",
    "printUser('홍길동',25)\n",
    "printUser('홍길순',23,'W')\n",
    "printUser('홍길냥',3,'M')"
   ]
  },
  {
   "cell_type": "markdown",
   "metadata": {},
   "source": [
    "## 함수 안에서 함수 밖의 변수를 변경하는 방법\n",
    "1. return value\n",
    "2. global value : 비추천"
   ]
  },
  {
   "cell_type": "code",
   "execution_count": 19,
   "metadata": {},
   "outputs": [
    {
     "name": "stdout",
     "output_type": "stream",
     "text": [
      "2\n"
     ]
    }
   ],
   "source": [
    "#1. return value\n",
    "def vartest(a): \n",
    "    a = a +1 \n",
    "    return a\n",
    "\n",
    "value = 1 \n",
    "value = vartest(value) \n",
    "print(value)"
   ]
  },
  {
   "cell_type": "code",
   "execution_count": 27,
   "metadata": {},
   "outputs": [
    {
     "name": "stdout",
     "output_type": "stream",
     "text": [
      "6\n"
     ]
    }
   ],
   "source": [
    "#2. global value : 비추천\n",
    "def vartest(): \n",
    "    global value \n",
    "    value = value + 1\n",
    "\n",
    "value = 5\n",
    "vartest() \n",
    "print(value)"
   ]
  },
  {
   "cell_type": "markdown",
   "metadata": {},
   "source": [
    "## [람다대수](https://ko.wikipedia.org/wiki/%EB%9E%8C%EB%8B%A4_%EB%8C%80%EC%88%98)\n",
    "\n",
    "```lambda 인자 : 표현식```"
   ]
  },
  {
   "cell_type": "code",
   "execution_count": 32,
   "metadata": {},
   "outputs": [
    {
     "name": "stdout",
     "output_type": "stream",
     "text": [
      "15\n"
     ]
    },
    {
     "data": {
      "text/plain": [
       "50"
      ]
     },
     "execution_count": 32,
     "metadata": {},
     "output_type": "execute_result"
    }
   ],
   "source": [
    "add = lambda a,b: a+b\n",
    "result = add(5,10)\n",
    "\n",
    "print(result)\n",
    "\n",
    "#익명\n",
    "(lambda x,y:x*y)(5,10)"
   ]
  },
  {
   "cell_type": "markdown",
   "metadata": {},
   "source": [
    "#### map()\n",
    "``` map(함수,리스트)```"
   ]
  },
  {
   "cell_type": "code",
   "execution_count": 19,
   "metadata": {},
   "outputs": [
    {
     "name": "stdout",
     "output_type": "stream",
     "text": [
      "0 1 4 9 16 "
     ]
    }
   ],
   "source": [
    "result = map(lambda x: x ** 2, range(5))\n",
    "\n",
    "for i in result:\n",
    "    print(i,end=' ')"
   ]
  },
  {
   "cell_type": "markdown",
   "metadata": {},
   "source": [
    "#### reduce()\n",
    "```reduce(함수, 순서형 자료)```\n",
    "\n",
    "func(func(func(a1,a2),a3),a4)\n"
   ]
  },
  {
   "cell_type": "code",
   "execution_count": 20,
   "metadata": {},
   "outputs": [
    {
     "data": {
      "text/plain": [
       "10"
      ]
     },
     "execution_count": 20,
     "metadata": {},
     "output_type": "execute_result"
    }
   ],
   "source": [
    "from functools import reduce\n",
    "reduce(lambda x, y: x + y, [0, 1, 2, 3, 4])"
   ]
  },
  {
   "cell_type": "code",
   "execution_count": 23,
   "metadata": {},
   "outputs": [
    {
     "data": {
      "text/plain": [
       "'edcba'"
      ]
     },
     "execution_count": 23,
     "metadata": {},
     "output_type": "execute_result"
    }
   ],
   "source": [
    "reduce(lambda x, y: y + x, 'abcde')"
   ]
  },
  {
   "cell_type": "markdown",
   "metadata": {},
   "source": [
    "#### filter()\n",
    "```filter(함수, 리스트)```"
   ]
  },
  {
   "cell_type": "code",
   "execution_count": 1,
   "metadata": {},
   "outputs": [
    {
     "name": "stdout",
     "output_type": "stream",
     "text": [
      "0 2 4 6 8 "
     ]
    }
   ],
   "source": [
    "result = filter(lambda x:x%2==0,range(10))\n",
    "\n",
    "for i in result:\n",
    "    print(i,end=' ')"
   ]
  },
  {
   "cell_type": "markdown",
   "metadata": {},
   "source": [
    "# 클래스\n",
    "## 클래스 만들기"
   ]
  },
  {
   "cell_type": "code",
   "execution_count": 20,
   "metadata": {},
   "outputs": [
    {
     "name": "stdout",
     "output_type": "stream",
     "text": [
      "id : 1, name : 티코\n"
     ]
    }
   ],
   "source": [
    "class Car:\n",
    "    # 생성자\n",
    "    def __init__(self, id, name):\n",
    "        self.id = id\n",
    "        self.name = name\n",
    "    \n",
    "    # 메소드   \n",
    "    def set_id(self, id):\n",
    "        self.id = id\n",
    "    \n",
    "    # 메소드   \n",
    "    def set_name(self, name):\n",
    "        self.name = name\n",
    "\n",
    "    # 메소드\n",
    "    def get_info(self):\n",
    "        return 'id : ' + str(self.id) + ', name : ' + self.name\n",
    "\n",
    "car = Car(1,'벤츠')\n",
    "# car.name = '티코'\n",
    "car.set_name('티코')\n",
    "print(car.get_info())"
   ]
  },
  {
   "cell_type": "markdown",
   "metadata": {},
   "source": [
    "## 클래스 상속(Inheritance)  "
   ]
  },
  {
   "cell_type": "code",
   "execution_count": 24,
   "metadata": {},
   "outputs": [
    {
     "name": "stdout",
     "output_type": "stream",
     "text": [
      "id : 2, name : 프라이드, price : 5000\n"
     ]
    }
   ],
   "source": [
    "# 상속 클래스\n",
    "class DetailCar(Car):\n",
    "    def set_price(self, price):\n",
    "        self.price = price\n",
    "\n",
    "    # 메서드 오버라이딩\n",
    "    def get_info(self):\n",
    "        return 'id : ' + str(self.id) + ', name : ' + self.name + ', price : ' + str(self.price)\n",
    "        \n",
    "car = DetailCar(2,'프라이드')\n",
    "car.set_price(5000)\n",
    "print(car.get_info())"
   ]
  },
  {
   "cell_type": "markdown",
   "metadata": {},
   "source": [
    "## 클래스 변수\n"
   ]
  },
  {
   "cell_type": "code",
   "execution_count": 26,
   "metadata": {},
   "outputs": [
    {
     "name": "stdout",
     "output_type": "stream",
     "text": [
      "S002홍길순\n",
      "S001홍길동\n"
     ]
    }
   ],
   "source": [
    "class User:\n",
    "    id = 'S001'\n",
    "    name = '홍길동'\n",
    "    age = 20\n",
    "    \n",
    "    \n",
    "userA = User()\n",
    "userA.id = 'S002'\n",
    "userA.name = '홍길순'\n",
    "print(userA.id + userA.name)\n",
    "\n",
    "userB = User()\n",
    "print(userB.id + userB.name)"
   ]
  },
  {
   "cell_type": "markdown",
   "metadata": {},
   "source": [
    "#### 문제 : 아래 클래스를 상속 받아서 minus 기능을 구현하라. 클래스 명은 UpgradeCalculator으로 만든다."
   ]
  },
  {
   "cell_type": "code",
   "execution_count": 28,
   "metadata": {},
   "outputs": [
    {
     "name": "stdout",
     "output_type": "stream",
     "text": [
      "5\n"
     ]
    }
   ],
   "source": [
    "class Calculator:\n",
    "    def __init__(self):\n",
    "        self.value = 0\n",
    "\n",
    "    def add(self, val):\n",
    "        self.value += val\n",
    "\n",
    "class UpgradeCalculator(Calculator):\n",
    "    def minus(self, val):\n",
    "        self.value -= val\n",
    "        \n",
    "cal = UpgradeCalculator()\n",
    "cal.add(10)\n",
    "cal.minus(5)\n",
    "\n",
    "print(cal.value)    "
   ]
  },
  {
   "cell_type": "markdown",
   "metadata": {},
   "source": [
    "#### 문제 : MaxLimitCalculator 100이상 값을 가질 수 없게 제한."
   ]
  },
  {
   "cell_type": "code",
   "execution_count": null,
   "metadata": {},
   "outputs": [],
   "source": [
    "class MaxLimitCalculator(Calculator):\n",
    "    def add(self, val):\n",
    "        self.value += val\n",
    "        if(self.value > 100):\n",
    "            self.value = 100\n",
    "\n",
    "cal = MaxLimitCalculator()\n",
    "cal.add(50)  # 50 더하기\n",
    "cal.add(60)  # 60 더하기\n",
    "\n",
    "print(cal.value)  # 100 출력            "
   ]
  }
 ],
 "metadata": {
  "kernelspec": {
   "display_name": "Python 3",
   "language": "python",
   "name": "python3"
  },
  "language_info": {
   "codemirror_mode": {
    "name": "ipython",
    "version": 3
   },
   "file_extension": ".py",
   "mimetype": "text/x-python",
   "name": "python",
   "nbconvert_exporter": "python",
   "pygments_lexer": "ipython3",
   "version": "3.6.8"
  }
 },
 "nbformat": 4,
 "nbformat_minor": 2
}
