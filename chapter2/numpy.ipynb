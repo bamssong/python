{
 "cells": [
  {
   "cell_type": "markdown",
   "metadata": {},
   "source": [
    "# numpy : 수학 및 과학 연산을 위한 파이썬 패키지\n",
    "\n",
    "\n",
    "\n",
    "- [quick start](https://docs.scipy.org/doc/numpy/user/quickstart.html)"
   ]
  },
  {
   "cell_type": "code",
   "execution_count": 12,
   "metadata": {},
   "outputs": [],
   "source": [
    "# import\n",
    "import numpy as np"
   ]
  },
  {
   "cell_type": "markdown",
   "metadata": {},
   "source": [
    "## 배열 구조 및 연산"
   ]
  },
  {
   "cell_type": "code",
   "execution_count": 2,
   "metadata": {},
   "outputs": [
    {
     "name": "stdout",
     "output_type": "stream",
     "text": [
      "[[-0.6779345  -0.25727812 -0.41854148]\n",
      " [ 1.15813006  0.65313577  2.43457848]]\n"
     ]
    }
   ],
   "source": [
    "# -- 난수를 통한 배열 생성\n",
    "data = np.random.randn(2, 3)\n",
    "print(data)"
   ]
  },
  {
   "cell_type": "code",
   "execution_count": 3,
   "metadata": {},
   "outputs": [
    {
     "name": "stdout",
     "output_type": "stream",
     "text": [
      "[6, 7, 5, 8, 0, 1]\n",
      "[6 7 5 8 0 1]\n"
     ]
    }
   ],
   "source": [
    "# -- 리스트를 통한 배열 생성\n",
    "data1 = [6, 7, 5, 8, 0, 1]\n",
    "print(data1)\n",
    "\n",
    "arr1 = np.array(data1)\n",
    "print(arr1)"
   ]
  },
  {
   "cell_type": "code",
   "execution_count": 6,
   "metadata": {},
   "outputs": [
    {
     "name": "stdout",
     "output_type": "stream",
     "text": [
      "[[1 2 3 4]\n",
      " [5 6 7 8]]\n",
      "(2, 4)\n"
     ]
    }
   ],
   "source": [
    "# -- 2차원 리스트를 통한 배열 생성\n",
    "data2 = [[1, 2, 3, 4], [5, 6, 7, 8]]\n",
    "arr2 = np.array(data2)\n",
    "print(arr2)\n",
    "\n",
    "# -- array 구조 출력\n",
    "print(arr2.shape)"
   ]
  },
  {
   "cell_type": "code",
   "execution_count": 7,
   "metadata": {},
   "outputs": [
    {
     "name": "stdout",
     "output_type": "stream",
     "text": [
      "[[0. 0. 0.]\n",
      " [0. 0. 0.]]\n"
     ]
    }
   ],
   "source": [
    "# -- 0으로 채워진 배열 생성\n",
    "print(np.zeros((2, 3)))"
   ]
  },
  {
   "cell_type": "code",
   "execution_count": 10,
   "metadata": {},
   "outputs": [
    {
     "name": "stdout",
     "output_type": "stream",
     "text": [
      "[ 0  1  2  3  4  5  6  7  8  9 10 11 12 13 14]\n"
     ]
    }
   ],
   "source": [
    "# -- 순번으로 채워진 배열 생성\n",
    "print(np.arange(15))"
   ]
  },
  {
   "cell_type": "code",
   "execution_count": 11,
   "metadata": {},
   "outputs": [
    {
     "name": "stdout",
     "output_type": "stream",
     "text": [
      "[[1 2 3]\n",
      " [4 5 6]]\n",
      "[[ 2  4  6]\n",
      " [ 8 10 12]]\n",
      "[[ 1  4  9]\n",
      " [16 25 36]]\n"
     ]
    }
   ],
   "source": [
    "# -- 다차원 배열 생성 및 계산\n",
    "arr = np.array([[1, 2, 3], [4, 5, 6]])\n",
    "print(arr)\n",
    "print(arr + arr)\n",
    "print(arr * arr)"
   ]
  },
  {
   "cell_type": "markdown",
   "metadata": {},
   "source": [
    "## n차 배열"
   ]
  },
  {
   "cell_type": "code",
   "execution_count": 13,
   "metadata": {},
   "outputs": [
    {
     "name": "stdout",
     "output_type": "stream",
     "text": [
      "[[11 12 13]\n",
      " [14 15 16]\n",
      " [17 18 19]]\n",
      "[14 15 16]\n",
      "16\n",
      "[[12 13]\n",
      " [15 16]]\n"
     ]
    }
   ],
   "source": [
    "# -- 다차원 배열 생성 및 조회\n",
    "\n",
    "arr2d = np.array([[11, 12, 13], [14, 15, 16], [17, 18, 19]])\n",
    "print(arr2d)\n",
    "print(arr2d[1])\n",
    "print(arr2d[1][2])\n",
    "print(arr2d[:2, 1:]) "
   ]
  },
  {
   "cell_type": "markdown",
   "metadata": {},
   "source": [
    "## 불리언 색인(Boolean Index)"
   ]
  },
  {
   "cell_type": "code",
   "execution_count": 22,
   "metadata": {},
   "outputs": [
    {
     "name": "stdout",
     "output_type": "stream",
     "text": [
      "['Bob' 'Joe' 'Will' 'Bob' 'Will' 'Joe' 'Joe']\n",
      "[[ 0.3745358  -0.05986109 -0.21557318 -0.9964507 ]\n",
      " [ 0.03311585 -1.32213756 -0.40503748 -0.18817376]\n",
      " [-0.47289886 -0.64179045 -1.0439667  -0.67304288]\n",
      " [-0.18513289 -1.81611119  0.17939683 -0.13065029]\n",
      " [ 0.10329693  0.67474811  0.43462896 -0.48760961]\n",
      " [-1.09055409  0.36788935  0.52800059 -0.6093116 ]\n",
      " [ 0.04652844  1.15502409 -0.32940412  0.54398742]]\n",
      "[ True False False  True False False False]\n",
      "[[ 0.3745358  -0.05986109 -0.21557318 -0.9964507 ]\n",
      " [-0.18513289 -1.81611119  0.17939683 -0.13065029]]\n",
      "[ 0.3745358  -0.18513289]\n",
      "[ True False  True  True  True False False]\n",
      "[[0.3745358  0.         0.         0.        ]\n",
      " [0.03311585 0.         0.         0.        ]\n",
      " [0.         0.         0.         0.        ]\n",
      " [0.         0.         0.17939683 0.        ]\n",
      " [0.10329693 0.67474811 0.43462896 0.        ]\n",
      " [0.         0.36788935 0.52800059 0.        ]\n",
      " [0.04652844 1.15502409 0.         0.54398742]]\n",
      "[[7.         7.         7.         7.        ]\n",
      " [0.03311585 0.         0.         0.        ]\n",
      " [7.         7.         7.         7.        ]\n",
      " [7.         7.         7.         7.        ]\n",
      " [7.         7.         7.         7.        ]\n",
      " [0.         0.36788935 0.52800059 0.        ]\n",
      " [0.04652844 1.15502409 0.         0.54398742]]\n"
     ]
    }
   ],
   "source": [
    "names = np.array([\"Bob\", \"Joe\", \"Will\", \"Bob\", \"Will\", \"Joe\", \"Joe\"])\n",
    "data = np.random.randn(7, 4)\n",
    "\n",
    "print(names)\n",
    "print(data)\n",
    "\n",
    "print(names == \"Bob\")\n",
    "\n",
    "# Bob이 있는 행\n",
    "print(data[names == \"Bob\"])  \n",
    "\n",
    "# Bob이 있는 행의 0번째 열\n",
    "print(data[names == \"Bob\", 0])  \n",
    "\n",
    "# 배열의 OR 조건 Boolean 조회\n",
    "mask = (names == \"Bob\") | (names == \"Will\")\n",
    "print(mask)\n",
    "\n",
    "# -- 조건에 따라 배열 값 변경 조회\n",
    "data[data < 0] = 0\n",
    "print(data)\n",
    "\n",
    "data[names != \"Joe\"] = 7\n",
    "print(data)"
   ]
  },
  {
   "cell_type": "markdown",
   "metadata": {},
   "source": [
    "## 피벗팅(pivoting) 및 배열 재조합"
   ]
  },
  {
   "cell_type": "code",
   "execution_count": 32,
   "metadata": {},
   "outputs": [
    {
     "name": "stdout",
     "output_type": "stream",
     "text": [
      "[[ 0  1  2  3  4]\n",
      " [ 5  6  7  8  9]\n",
      " [10 11 12 13 14]]\n",
      "[[ 0  5 10]\n",
      " [ 1  6 11]\n",
      " [ 2  7 12]\n",
      " [ 3  8 13]\n",
      " [ 4  9 14]]\n",
      "[ 0  1  2  3  4  5  6  7  8  9 10 11 12 13 14 15]\n",
      "[[[ 0  1  2  3]\n",
      "  [ 4  5  6  7]]\n",
      "\n",
      " [[ 8  9 10 11]\n",
      "  [12 13 14 15]]]\n",
      "[[[ 0  4]\n",
      "  [ 1  5]\n",
      "  [ 2  6]\n",
      "  [ 3  7]]\n",
      "\n",
      " [[ 8 12]\n",
      "  [ 9 13]\n",
      "  [10 14]\n",
      "  [11 15]]]\n"
     ]
    }
   ],
   "source": [
    "arr = np.arange(15).reshape((3, 5))\n",
    "print(arr)\n",
    "print(arr.T)\n",
    "\n",
    "# 재조합\n",
    "arr = np.arange(16)\n",
    "print(arr)\n",
    "\n",
    "arr = np.arange(16).reshape(2, 2, 4)\n",
    "print(arr)\n",
    "\n",
    "# 피벗팅\n",
    "arr2 = arr.swapaxes(1, 2)\n",
    "print(arr2)"
   ]
  },
  {
   "cell_type": "markdown",
   "metadata": {},
   "source": [
    "## 배열 조회 조건 및 집계"
   ]
  },
  {
   "cell_type": "code",
   "execution_count": 37,
   "metadata": {},
   "outputs": [
    {
     "name": "stdout",
     "output_type": "stream",
     "text": [
      "[[-0.19212155  0.0532545   0.13179275 -0.39032098]\n",
      " [ 0.75434506 -0.28967633  1.79807461 -0.16205765]\n",
      " [-0.46336151  1.30156942 -0.44315546  1.34015301]\n",
      " [-0.01722251  0.71354865 -0.90865297 -1.63535523]]\n",
      "[[-1  1  1 -1]\n",
      " [ 1 -1  1 -1]\n",
      " [-1  1 -1  1]\n",
      " [-1  1 -1 -1]]\n",
      "[[-2  2  2 -2]\n",
      " [ 2 -2  2 -2]\n",
      " [-2  2 -2  2]\n",
      " [-2  2 -2 -2]]\n",
      "[[-3  3  3 -3]\n",
      " [ 3 -3  3 -3]\n",
      " [-3  3 -3  3]\n",
      " [-3  3 -3 -3]]\n",
      "[[-4.          0.0532545   0.13179275 -4.        ]\n",
      " [ 0.75434506 -4.          1.79807461 -4.        ]\n",
      " [-4.          1.30156942 -4.          1.34015301]\n",
      " [-4.          0.71354865 -4.         -4.        ]]\n",
      "0.09942586302824619\n",
      "0.09942586302824619\n",
      "1.590813808451939\n",
      "[-0.19212155 -0.13886705 -0.0070743  -0.39739528  0.35694979  0.06727346\n",
      "  1.86534807  1.70329042  1.23992891  2.54149833  2.09834287  3.43849588\n",
      "  3.42127337  4.13482201  3.22616904  1.59081381]\n",
      "-1.6353552327652012\n",
      "1.7980746106566932\n"
     ]
    }
   ],
   "source": [
    "arr = np.random.randn(4, 4)\n",
    "print(arr)\n",
    "\n",
    "# -- where를 이용한 조건 조회\n",
    "print(np.where(arr > 0, 1, -1))\n",
    "print(np.where((0 < arr) & (arr < 10), 2, -2))\n",
    "print(np.where(np.logical_and(arr > 0, arr < 10), 3, -3))\n",
    "print(np.where((0 < arr) & (arr < 10), arr, -4))\n",
    "\n",
    "# -- 배열 집계\n",
    "print(arr.mean())\n",
    "print(np.mean(arr))\n",
    "\n",
    "print(arr.sum())\n",
    "\n",
    "#누적 sum\n",
    "print(arr.cumsum())  \n",
    "\n",
    "print(arr.min())\n",
    "print(arr.max())"
   ]
  },
  {
   "cell_type": "markdown",
   "metadata": {},
   "source": [
    "## 정렬 밀 중복제거"
   ]
  },
  {
   "cell_type": "code",
   "execution_count": 43,
   "metadata": {},
   "outputs": [
    {
     "name": "stdout",
     "output_type": "stream",
     "text": [
      "[[-0.97851845  0.89183829  1.70421526]\n",
      " [ 1.21988562  0.25132006  0.52039845]\n",
      " [ 1.17300597  1.45972572 -1.5321827 ]\n",
      " [-0.59092242 -0.62767412 -1.5064985 ]]\n",
      "[[-0.97851845 -0.62767412 -1.5321827 ]\n",
      " [-0.59092242  0.25132006 -1.5064985 ]\n",
      " [ 1.17300597  0.89183829  0.52039845]\n",
      " [ 1.21988562  1.45972572  1.70421526]]\n",
      "[[-1.5321827  -0.97851845 -0.62767412]\n",
      " [-1.5064985  -0.59092242  0.25132006]\n",
      " [ 0.52039845  0.89183829  1.17300597]\n",
      " [ 1.21988562  1.45972572  1.70421526]]\n",
      "['Bob' 'Joe' 'Will']\n",
      "Joe\n",
      "{'Bob', 'Will', 'Joe'}\n"
     ]
    }
   ],
   "source": [
    "arr = np.random.randn(4, 3)\n",
    "print(arr)\n",
    "\n",
    "# -- 정렬\n",
    "arr.sort(0)  # 열(column) 단위로 정렬\n",
    "print(arr)\n",
    "\n",
    "arr.sort(1)  # 행(row) 단위로 정렬\n",
    "print(arr)\n",
    "\n",
    "\n",
    "# 중복제거\n",
    "names = np.array([\"Bob\", \"Joe\", \"Will\", \"Bob\", \"Will\", \"Joe\", \"Joe\"])\n",
    "print(np.unique(names))  \n",
    "\n",
    "# 중복제거,1번지 값 출력.\n",
    "print(np.unique(names)[1]) \n",
    "\n",
    "# 집합 - 중복 허용 X\n",
    "print(set(names))\\"
   ]
  },
  {
   "cell_type": "markdown",
   "metadata": {},
   "source": [
    "## 선형대수(행렬 연산)"
   ]
  },
  {
   "cell_type": "code",
   "execution_count": 55,
   "metadata": {},
   "outputs": [
    {
     "name": "stdout",
     "output_type": "stream",
     "text": [
      "[[ 6  6]\n",
      " [-3 28]]\n",
      "[[ 4 17]\n",
      " [14 37]]\n",
      "[[15 24]\n",
      " [20 26]]\n",
      "[[-5 -1]\n",
      " [ 4 -3]]\n",
      "[[ 7  5]\n",
      " [ 2 11]]\n",
      "[[ 0.16666667  0.66666667]\n",
      " [-3.          0.57142857]]\n",
      "[[ 28  44]\n",
      " [ 67 101]]\n",
      "[[ 24.62628986  -2.68728763 -14.25475254   1.34075913  -7.63324516]\n",
      " [ -2.68728763   0.68591912   1.1920517   -0.10199741   0.99508583]\n",
      " [-14.25475254   1.1920517    8.82350442  -0.64226637   4.07572936]\n",
      " [  1.34075913  -0.10199741  -0.64226637   0.51181581  -0.51665918]\n",
      " [ -7.63324516   0.99508583   4.07572936  -0.51665918   2.82012446]]\n",
      "[[ 1.00000000e+00  6.24960412e-17  4.86125496e-15  1.08740285e-16\n",
      "   5.52179754e-16]\n",
      " [-6.27977288e-15  1.00000000e+00  4.65285711e-15  1.15633074e-15\n",
      "   4.36991713e-16]\n",
      " [-5.38871850e-15 -2.67057290e-15  1.00000000e+00  7.28121985e-16\n",
      "  -2.50181826e-15]\n",
      " [ 7.97785042e-15  3.03022161e-16 -2.92979692e-16  1.00000000e+00\n",
      "   1.15790035e-15]\n",
      " [-1.33370780e-14 -6.65750388e-16  3.11859570e-15 -4.19279464e-16\n",
      "   1.00000000e+00]]\n"
     ]
    }
   ],
   "source": [
    "\n",
    "x = np.array([[1, 2], [3,4]])\n",
    "y = np.array([[6, 3], [-1, 7]])\n",
    "\n",
    "# 아마다르 곱\n",
    "print(x * y)\n",
    "\n",
    "#\n",
    "print(x.dot(y))\n",
    "print(y.dot(x))\n",
    "\n",
    "# print(x - y)\n",
    "# print(x + y)\n",
    "# print(x / y)\n",
    "\n",
    "# 전치행렬\n",
    "x = np.array([[1, 2, 3], [4, 5, 6]])\n",
    "y = np.array([[6, 3], [-1, 7], [8, 9]])\n",
    "\n",
    "# -- 행렬 곱하기\n",
    "print(x.dot(y))  # print(x*y)는 에러발생\n",
    "\n",
    "# ????????\n",
    "# inverting, \n",
    "from numpy.linalg import inv, qr\n",
    "\n",
    "x = np.random.randn(5, 5)\n",
    "\n",
    "# x.T : x의 전치행렬.\n",
    "mat = x.T.dot(x)\n",
    "print(inv(mat))\n",
    "print(mat.dot(inv(mat)))\n"
   ]
  },
  {
   "cell_type": "markdown",
   "metadata": {},
   "source": [
    "## 난수 생성"
   ]
  },
  {
   "cell_type": "code",
   "execution_count": 51,
   "metadata": {},
   "outputs": [
    {
     "name": "stdout",
     "output_type": "stream",
     "text": [
      "[[-0.20332112  1.13821622  0.63592742 -0.2794165 ]\n",
      " [ 0.65196752 -0.33643343  0.28486644 -1.37354187]\n",
      " [-0.13872017  0.21484061  0.30417265  0.63531792]]\n",
      "[[ 0.74913282 -0.23398779]\n",
      " [-0.87683477  1.96147994]]\n",
      "[[-0.06703827 -0.64003023]\n",
      " [-0.07411079  0.048337  ]]\n"
     ]
    }
   ],
   "source": [
    "samples = np.random.normal(size=(3, 4))\n",
    "print(samples)\n",
    "\n",
    "samples = np.random.normal(size=(2, 2))\n",
    "print(samples)\n",
    "\n",
    "data = np.random.randn(2, 2)\n",
    "print(data)"
   ]
  },
  {
   "cell_type": "code",
   "execution_count": null,
   "metadata": {},
   "outputs": [],
   "source": []
  }
 ],
 "metadata": {
  "kernelspec": {
   "display_name": "Python 3",
   "language": "python",
   "name": "python3"
  },
  "language_info": {
   "codemirror_mode": {
    "name": "ipython",
    "version": 3
   },
   "file_extension": ".py",
   "mimetype": "text/x-python",
   "name": "python",
   "nbconvert_exporter": "python",
   "pygments_lexer": "ipython3",
   "version": "3.6.8"
  }
 },
 "nbformat": 4,
 "nbformat_minor": 2
}
