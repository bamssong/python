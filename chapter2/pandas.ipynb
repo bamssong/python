{
 "cells": [
  {
   "cell_type": "markdown",
   "metadata": {},
   "source": [
    "# Pandas\n",
    "[파이썬으로 배우는 알고리즘 트레이딩 13장](https://wikidocs.net/2873)\n",
    "\n",
    "[pandas](http://pandas.pydata.org/)\n",
    "[pandas_datareader](https://pandas-datareader.readthedocs.io)\n"
   ]
  },
  {
   "cell_type": "code",
   "execution_count": 19,
   "metadata": {},
   "outputs": [],
   "source": [
    "# import 1차열, 2차열\n",
    "from pandas import Series, DataFrame\n",
    "\n",
    "# import pandas_datareader\n",
    "import pandas_datareader.data as pdr\n",
    "\n",
    "# import\n",
    "import datetime"
   ]
  },
  {
   "cell_type": "markdown",
   "metadata": {},
   "source": [
    "## Series\n",
    "1차원 데이터"
   ]
  },
  {
   "cell_type": "code",
   "execution_count": 1,
   "metadata": {},
   "outputs": [
    {
     "name": "stdout",
     "output_type": "stream",
     "text": [
      "0    92600\n",
      "1    92400\n",
      "2    92100\n",
      "3    94300\n",
      "4    92300\n",
      "dtype: int64\n"
     ]
    }
   ],
   "source": [
    "# Series 사용\n",
    "kakao = Series([92600, 92400, 92100, 94300, 92300])\n",
    "print(kakao)\n",
    "\n",
    "kakao2 = Series([92600, 92400, 92100, 94300, 92300], index=['2016-02-19',\n",
    "                                                            '2016-02-18',\n",
    "                                                            '2016-02-17',\n",
    "                                                            '2016-02-16',\n",
    "                                                            '2016-02-15'])\n",
    "\n",
    "print(kakao2)\n",
    "print(kakao2['2016-02-19'])\n",
    "print(kakao2['2016-02-18'])\n",
    "\n",
    "for date in kakao2.index:\n",
    "    print(date)\n",
    "\n",
    "for ending_price in kakao2.values:\n",
    "    print(ending_price)\n"
   ]
  },
  {
   "cell_type": "code",
   "execution_count": 6,
   "metadata": {},
   "outputs": [
    {
     "name": "stdout",
     "output_type": "stream",
     "text": [
      "kt       40\n",
      "naver    40\n",
      "sk       40\n",
      "dtype: int64\n",
      "kt       20\n",
      "naver   -20\n",
      "sk        0\n",
      "dtype: int64\n"
     ]
    }
   ],
   "source": [
    "# index 매칭되면???\n",
    "mine   = Series([10, 20, 30], index=['naver', 'sk', 'kt'])\n",
    "friend = Series([10, 30, 20], index=['kt', 'naver', 'sk'])\n",
    "\n",
    "merge = mine + friend\n",
    "print(merge)\n",
    "\n",
    "merge = mine - friend\n",
    "print(merge)"
   ]
  },
  {
   "cell_type": "markdown",
   "metadata": {},
   "source": [
    "## DataFrame\n",
    "2차원 데이터"
   ]
  },
  {
   "cell_type": "code",
   "execution_count": 7,
   "metadata": {},
   "outputs": [
    {
     "name": "stdout",
     "output_type": "stream",
     "text": [
      "   col0  col1  col2\n",
      "0     1    10   100\n",
      "1     2    20   200\n",
      "2     3    30   300\n",
      "3     4    40   400\n"
     ]
    }
   ],
   "source": [
    "# DataFrame 사용\n",
    "raw_data = {'col0': [1, 2, 3, 4],\n",
    "            'col1': [10, 20, 30, 40],\n",
    "            'col2': [100, 200, 300, 400]}\n",
    "\n",
    "data = DataFrame(raw_data)\n",
    "print(data)"
   ]
  },
  {
   "cell_type": "code",
   "execution_count": 9,
   "metadata": {},
   "outputs": [
    {
     "name": "stdout",
     "output_type": "stream",
     "text": [
      "    open   high    low  close\n",
      "0  11650  12100  11600  11900\n",
      "1  11100  11800  11050  11600\n",
      "2  11200  11200  10900  11000\n",
      "3  11100  11100  10950  11100\n",
      "4  11000  11150  10900  11050\n",
      "           open   high    low  close\n",
      "16.02.29  11650  12100  11600  11900\n",
      "16.02.26  11100  11800  11050  11600\n",
      "16.02.25  11200  11200  10900  11000\n",
      "16.02.24  11100  11100  10950  11100\n",
      "16.02.23  11000  11150  10900  11050\n"
     ]
    }
   ],
   "source": [
    "daeshin = {'open':  [11650, 11100, 11200, 11100, 11000],\n",
    "           'high':  [12100, 11800, 11200, 11100, 11150],\n",
    "           'low' :  [11600, 11050, 10900, 10950, 10900],\n",
    "           'close': [11900, 11600, 11000, 11100, 11050]}\n",
    "\n",
    "# daeshin_day = DataFrame(daeshin)\n",
    "\n",
    "# columns 순서 지정.\n",
    "daeshin_day = DataFrame(daeshin, columns=['open', 'high', 'low', 'close'])\n",
    "print(daeshin_day)\n",
    "\n",
    "date = ['16.02.29', '16.02.26', '16.02.25', '16.02.24', '16.02.23']\n",
    "daeshin_day = DataFrame(daeshin, columns=['open', 'high', 'low', 'close'], index=date)\n",
    "print(daeshin_day)"
   ]
  },
  {
   "cell_type": "code",
   "execution_count": 11,
   "metadata": {},
   "outputs": [
    {
     "name": "stdout",
     "output_type": "stream",
     "text": [
      "16.02.29    11900\n",
      "16.02.26    11600\n",
      "16.02.25    11000\n",
      "16.02.24    11100\n",
      "16.02.23    11050\n",
      "Name: close, dtype: int64\n",
      "<class 'pandas.core.series.Series'>\n"
     ]
    }
   ],
   "source": [
    "# columns 데이터 선택.\n",
    "close = daeshin_day['close']\n",
    "print(close)\n",
    "print(type(close))"
   ]
  },
  {
   "cell_type": "code",
   "execution_count": 20,
   "metadata": {},
   "outputs": [
    {
     "name": "stdout",
     "output_type": "stream",
     "text": [
      "open     11100\n",
      "high     11100\n",
      "low      10950\n",
      "close    11100\n",
      "Name: 16.02.24, dtype: int64\n",
      "<class 'pandas.core.series.Series'>\n"
     ]
    }
   ],
   "source": [
    "# row 데이터 선택\n",
    "# day_data = daeshin_day.ix['16.02.24'] #deprecated \n",
    "day_data = daeshin_day.loc['16.02.24']\n",
    "print(day_data)\n",
    "print(type(day_data))"
   ]
  },
  {
   "cell_type": "markdown",
   "metadata": {},
   "source": [
    "## Pandas pandas_datareader 사용하기\n"
   ]
  },
  {
   "cell_type": "code",
   "execution_count": 28,
   "metadata": {},
   "outputs": [
    {
     "name": "stdout",
     "output_type": "stream",
     "text": [
      "             High    Low   Open  Close    Volume  Adj Close\n",
      "Date                                                       \n",
      "2019-01-02  39400  38550  39400  38750   7847664      38750\n",
      "2019-01-03  38550  37450  38300  37600  12471493      37600\n",
      "2019-01-04  37600  36850  37450  37450  14108958      37450\n",
      "2019-01-07  38900  37800  38000  38750  12748997      38750\n",
      "2019-01-08  39200  37950  38000  38100  12756554      38100\n",
      "2019-01-09  39600  38300  38650  39600  17452708      39600\n",
      "2019-01-10  40150  39600  40000  39800  14731699      39800\n",
      "2019-01-11  40550  39950  40350  40500  11661063      40500\n",
      "2019-01-14  40700  39850  40450  40050  11984996      40050\n",
      "2019-01-15  41100  39850  40050  41100  11492756      41100\n",
      "2019-01-16  41450  40700  41150  41450   8491595      41450\n",
      "2019-01-17  42100  41450  41700  41950  11736903      41950\n",
      "2019-01-18  42400  41950  42000  42300  11029256      42300\n",
      "2019-01-21  42750  41900  42700  42750  11355701      42750\n",
      "2019-01-22  42850  41850  42750  42150   9964356      42150\n",
      "2019-01-23  42250  41350  41350  42000  11071079      42000\n",
      "2019-01-24  43100  42350  43050  43050  14747623      43050\n",
      "2019-01-25  44750  43750  44300  44750  22789395      44750\n",
      "2019-01-28  45500  44600  45000  45050  17998914      45050\n",
      "2019-01-29  45500  44350  45050  45500  16215017      45500\n",
      "2019-01-30  46400  44800  44800  46400  17505980      46400\n",
      "2019-01-31  47050  46150  46650  46150  21621145      46150\n",
      "2019-02-01  46950  46250  46650  46350  13832454      46350\n"
     ]
    }
   ],
   "source": [
    "start = datetime.datetime(2019, 1, 1)\n",
    "end = datetime.datetime(2019, 2, 15)\n",
    "samsung = pdr.DataReader(\"005930.KS\", \"yahoo\", start, end)\n",
    "print(samsung)"
   ]
  },
  {
   "cell_type": "code",
   "execution_count": null,
   "metadata": {},
   "outputs": [],
   "source": []
  }
 ],
 "metadata": {
  "kernelspec": {
   "display_name": "Python 3",
   "language": "python",
   "name": "python3"
  },
  "language_info": {
   "codemirror_mode": {
    "name": "ipython",
    "version": 3
   },
   "file_extension": ".py",
   "mimetype": "text/x-python",
   "name": "python",
   "nbconvert_exporter": "python",
   "pygments_lexer": "ipython3",
   "version": "3.5.5"
  }
 },
 "nbformat": 4,
 "nbformat_minor": 2
}
