{
 "cells": [
  {
   "cell_type": "markdown",
   "metadata": {},
   "source": [
    "# [파이썬으로 배우는 알고리즘 트레이딩 (4쇄)](https://wikidocs.net/book/110) 따라하기\n",
    "\n",
    "\n",
    "## 시작하기전 살펴보기\n",
    "\n",
    "- [git 튜토리얼 - sourcetree](https://backlog.com/git-tutorial/kr/):파일의 변경사항을 추적\n",
    "- [github 가입하기](https://github.com/)\n",
    "- git tools 설치하기\n",
    "\n",
    ">[git kraken](https://www.gitkraken.com/)\n",
    "\n",
    ">[git sourcetree](https://www.sourcetreeapp.com/)\n",
    "\n",
    ">[tortoisegit](https://tortoisegit.org/)\n",
    "\n",
    "- [anaconda 설치하기](https://www.anaconda.com/)\n",
    "- [COM(Component Object Model)이란?](https://ko.wikipedia.org/wiki/%EC%BB%B4%ED%8F%AC%EB%84%8C%ED%8A%B8_%EC%98%A4%EB%B8%8C%EC%A0%9D%ED%8A%B8_%EB%AA%A8%EB%8D%B8)\n",
    "MS의 소프트웨어 컴퓨넌트를 위한 이진 인터페이스 표준 (DLL, EXE 형태의 단위 소프트웨어 모듈)\n",
    "- [PyQt5](https://wikidocs.net/book/2165)\n",
    "- [exe파일 만들기](https://www.pyinstaller.org/)\n",
    "\n",
    "\n",
    "## 환경 설정\n",
    "#### 환경 \n",
    "```\n",
    "windows 10 64bit\n",
    "anaconda : Anaconda3-2018.12-Windows-x86_64\n",
    "pycharm : pycharm-community-2018.3.4\n",
    "```\n",
    "\n",
    "#### 키움증권 개발 환경 설정\n",
    "- 키움 Open API 는 프로그램 개발 확장성을 고려하여 OCX 컨트롤로 제작 지원합니다.\n",
    "- 사용자 편의에 따라 VB, 엑셀, 웹기반, MFC 등으로 프로그램 제작이 가능합니다.\n",
    "- 데이터 요청 및 수신은 TR 서비스명을 검색한 후 OCX를 통해 API 함수를 호출하는 방식으로 진행합니다.\n",
    "\n",
    "\n",
    "- 키움증권 계좌 개설 :  모바일(MTS) 키움증권 비대면 계좌개설 앱 설치 후 계좌 개설.\n",
    "- [키움증권 홈페이지](https://www.kiwoom.com/)\n",
    "```\n",
    "STEP 1. Open API 사용신청 합니다.\n",
    "STEP 2. OpenAPI+ 모듈 다운로드 및 설치\n",
    "STEP 3. Open API OCX 탑재 프로그램 제작 및 KOA Studio 활용\n",
    "STEP 4. 모의환경 테스트\n",
    "```\n",
    "[자세히보기](https://www2.kiwoom.com/nkw.templateFrameSet.do?m=m1408000000)\n",
    "\n",
    "\n",
    "\n",
    "#### anaconda environment 설정\n",
    "- python version 3.5, 32bit용 생성 : \n",
    "    - 키움증권 API, OCX 컨트롤 사용 시 32bit 환경이어야 함\n",
    "    - [zipline 설치](http://www.zipline.io/index.html) version 3.5\n",
    "    - zipline을 위한 Visual C++ 14.0 설치(python 3.5) [참고링크](https://newinvest.tistory.com/23)\n",
    "    \n",
    "    ![Visual C++ 14.0 설치](./res/vc_install.png) \n",
    "\n",
    "- 생성 방법, [참고링크](https://sijoo.tistory.com/405)\n",
    "\n",
    "```\n",
    "# anaconda prompy 실행 & update\n",
    "> conda update conda\n",
    "\n",
    "# 목록 보기 \n",
    "> conda env list\n",
    "\n",
    "# 설정 보기\n",
    "> conda info\n",
    "\n",
    "# ver 3.5, 32bit용 생성.\n",
    "> set CONDA_FORCE_32BIT=1\n",
    "> conda create -n py35_32bit python=3.5 anaconda\n",
    "\n",
    "# 활성화 시키기\n",
    "> activate py35_32bit\n",
    "\n",
    "# pyqt5 설치\n",
    "> pip install pyqt5\n",
    "\n",
    "# zipline 설치 (설치 전, Visual C++ 14.0 미리 설치 )\n",
    "> pip install zipline\n",
    "```\n",
    "\n",
    " ![conda info](./res/conda_info.png) \n",
    "\n",
    "\n",
    "\n",
    "- 그 외\n",
    "\n",
    "```\n",
    "# 비활성화 시키기\n",
    "> deactivate py35_32bit\n",
    "\n",
    "# mac 에서 사용 시 \n",
    "> source activate py35_32bit\n",
    "\n",
    "# 64bit로 돌리기\n",
    "set CONDA_FORCE_32BIT=\n",
    "\n",
    "# pycharm 사용 시 interpreter 'py35_32bit' 설정 \n",
    "```\n",
    "\n",
    "- 이슈 모음\n",
    "[anaconda navigator freezes on loading applications](https://github.com/ContinuumIO/anaconda-issues/issues/9864)\n"
   ]
  },
  {
   "cell_type": "markdown",
   "metadata": {},
   "source": [
    "## 파이썬에서 COM 사용해 보기, win32com"
   ]
  },
  {
   "cell_type": "code",
   "execution_count": 1,
   "metadata": {},
   "outputs": [],
   "source": [
    "# 익스플로어 app 실행해보기\n",
    "import win32com.client\n",
    "\n",
    "explore = win32com.client.Dispatch('InternetExplorer.Application')\n",
    "explore.Visible = True"
   ]
  },
  {
   "cell_type": "code",
   "execution_count": null,
   "metadata": {},
   "outputs": [],
   "source": [
    "# 엑셀파일 pandas 사용하기.\n",
    "excel = win32com.client.Dispatch('Word.Application')\n",
    "excel.Visible = True"
   ]
  },
  {
   "cell_type": "markdown",
   "metadata": {},
   "source": [
    "## padas 이용 excel 파일 읽기\n",
    "(-> pandas.ipynb)\n",
    "\n",
    "[read](http://pandas.pydata.org/pandas-docs/stable/reference/api/pandas.read_excel.html?highlight=excel#pandas.read_excel)"
   ]
  },
  {
   "cell_type": "code",
   "execution_count": 2,
   "metadata": {},
   "outputs": [
    {
     "name": "stdout",
     "output_type": "stream",
     "text": [
      "           A000020 A000030\n",
      "NaN           동화약품    우리은행\n",
      "10/31/2017    8840   16400\n",
      "11/30/2017   10300   16200\n",
      "12/28/2017    9750   15750\n",
      "1/31/2018    10800   16850\n",
      "2/28/2018    11400   16600\n",
      "3/30/2018    12250   14650\n",
      "4/30/2018    11550   16050\n",
      "5/31/2018    11450   15300\n",
      "6/29/2018    10200   16300\n",
      "7/31/2018    11050   16900\n",
      "8/31/2018    11600   16300\n",
      "9/28/2018    11350   16900\n",
      "10/31/2018    9050   15750\n",
      "11/30/2018    9110   15650\n",
      "12/28/2018    9100   15600\n",
      "1/28/2019     9930   14800\n",
      "Index(['A000020', 'A000030'], dtype='object')\n",
      "Index([         nan, '10/31/2017', '11/30/2017', '12/28/2017',  '1/31/2018',\n",
      "        '2/28/2018',  '3/30/2018',  '4/30/2018',  '5/31/2018',  '6/29/2018',\n",
      "        '7/31/2018',  '8/31/2018',  '9/28/2018', '10/31/2018', '11/30/2018',\n",
      "       '12/28/2018',  '1/28/2019'],\n",
      "      dtype='object')\n"
     ]
    }
   ],
   "source": [
    "from pandas import Series, DataFrame\n",
    "import pandas as pd\n",
    "\n",
    "stocks = pd.read_excel('../data/sample.xlsx',sheet_name='stock')\n",
    "print(stocks)\n",
    "\n",
    "print(stocks.columns)\n",
    "print(stocks.index)\n",
    "\n",
    "stocks.to_excel('../data/result.xlsx')\n",
    "stocks.to_csv('../data/result.csv')"
   ]
  },
  {
   "cell_type": "markdown",
   "metadata": {},
   "source": [
    "## PyQt5 사용하기\n",
    "anaconda > environments > pyqt 관련 설치.\n",
    "pycharm은 Setting > Project Interpreter > anaconda environments 생성한걸로 설정함."
   ]
  },
  {
   "cell_type": "code",
   "execution_count": 2,
   "metadata": {},
   "outputs": [
    {
     "name": "stdout",
     "output_type": "stream",
     "text": [
      "['/Users/bamssong/anaconda3/lib/python3.6/site-packages/ipykernel_launcher.py', '-f', '/Users/bamssong/Library/Jupyter/runtime/kernel-5e5d9399-d739-41cb-b33a-b400f8ccf00a.json']\n"
     ]
    }
   ],
   "source": [
    "import sys\n",
    "from PyQt5.QtWidgets import *\n",
    "\n",
    "print(sys.argv)"
   ]
  },
  {
   "cell_type": "code",
   "execution_count": null,
   "metadata": {},
   "outputs": [],
   "source": [
    "def hello_pyqt():\n",
    "    app = QApplication(sys.argv)\n",
    "    label = QLabel(\"Hello PyQt\")\n",
    "    label.show()\n",
    "    app.exec_()\n",
    "\n",
    "\n",
    "hello_pyqt()"
   ]
  },
  {
   "cell_type": "code",
   "execution_count": 3,
   "metadata": {},
   "outputs": [
    {
     "data": {
      "text/plain": [
       "0"
      ]
     },
     "execution_count": 3,
     "metadata": {},
     "output_type": "execute_result"
    }
   ],
   "source": [
    "class MyWindow(QMainWindow):\n",
    "    def __init__(self):\n",
    "        super().__init__()\n",
    "        self.setWindowTitle(\"PyStock\")\n",
    "        self.setGeometry(300, 300, 300, 400)\n",
    "\n",
    "        btn1 = QPushButton(\"Click me\", self)\n",
    "        btn1.move(20, 20)\n",
    "        btn1.clicked.connect(self.btn1_clicked)\n",
    "\n",
    "    def btn1_clicked(self):\n",
    "        QMessageBox.about(self, \"message\", \"clicked\")\n",
    "\n",
    "\n",
    "app = QApplication(sys.argv)\n",
    "myWindow = MyWindow()\n",
    "myWindow.show()\n",
    "app.exec_()"
   ]
  },
  {
   "cell_type": "markdown",
   "metadata": {},
   "source": [
    "## Pandas & zipline 이용한 백테스팅\n",
    "\n",
    "백테스팅이란 개발된 알고리즘을 과거 데이터를 사용해 검증해보는 것을 의미\n",
    "\n",
    "### [zipline 설치](https://github.com/quantopian/zipline)\n",
    "\n",
    "### [zipline 기초](http://www.zipline.io/index.html)\n",
    "![zipline](./res/zipline_00.png) \n",
    "\n",
    "\n",
    "### 이동평균선 전략 백테스트\n",
    "![골든크로스&데드크로스](./res/zipline_01.png) \n",
    "\n",
    "\n",
    "### 유가증권시장/코스닥시장 백테스팅\n"
   ]
  },
  {
   "cell_type": "code",
   "execution_count": null,
   "metadata": {},
   "outputs": [],
   "source": []
  }
 ],
 "metadata": {
  "kernelspec": {
   "display_name": "Python 3",
   "language": "python",
   "name": "python3"
  },
  "language_info": {
   "codemirror_mode": {
    "name": "ipython",
    "version": 3
   },
   "file_extension": ".py",
   "mimetype": "text/x-python",
   "name": "python",
   "nbconvert_exporter": "python",
   "pygments_lexer": "ipython3",
   "version": "3.6.8"
  }
 },
 "nbformat": 4,
 "nbformat_minor": 2
}
