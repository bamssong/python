{
 "cells": [
  {
   "cell_type": "markdown",
   "metadata": {},
   "source": [
    "# [파이썬으로 배우는 알고리즘 트레이딩 (4쇄)](https://wikidocs.net/book/110) 따라하기\n",
    "필요 조건 : \n",
    "1. 윈도우 OS 환경\n",
    "2. 파이썬 기초 지식"
   ]
  },
  {
   "cell_type": "code",
   "execution_count": 1,
   "metadata": {},
   "outputs": [],
   "source": [
    "# 익스플로어 app 실행해보기\n",
    "import win32com.client\n",
    "\n",
    "explore = win32com.client.Dispatch('InternetExplorer.Application')\n",
    "explore.Visible = True"
   ]
  },
  {
   "cell_type": "code",
   "execution_count": null,
   "metadata": {},
   "outputs": [],
   "source": [
    "# 엑셀파일 pandas 사용하기.\n"
   ]
  },
  {
   "cell_type": "code",
   "execution_count": 15,
   "metadata": {},
   "outputs": [
    {
     "name": "stdout",
     "output_type": "stream",
     "text": [
      "None\n"
     ]
    }
   ],
   "source": [
    "# lib : excel, https://openpyxl.readthedocs.io/en/stable/index.html\n",
    "from openpyxl import load_workbook\n",
    "\n",
    "def load():\n",
    "    wb = load_workbook(filename='../data/sample.xlsx', read_only=True)\n",
    "    ws = wb['stock']\n",
    "    \n",
    "#     start_column = 1\n",
    "#     end_column = ws.max_column\n",
    "#     type(end_column)\n",
    "    print(ws.cell(column=1, row=1).value)\n",
    "#     start_row = 1\n",
    "#     end_row = 2 #ws.max_row\n",
    "    \n",
    "#     for column in range(start_column, end_column):\n",
    "#         for row in range(start_row, end_row):\n",
    "#             print(ws.cell(column=column, row=row).value, end=' ')\n",
    "#         print()           \n",
    "\n",
    "load()"
   ]
  },
  {
   "cell_type": "code",
   "execution_count": null,
   "metadata": {},
   "outputs": [],
   "source": []
  },
  {
   "cell_type": "code",
   "execution_count": null,
   "metadata": {},
   "outputs": [],
   "source": []
  }
 ],
 "metadata": {
  "kernelspec": {
   "display_name": "Python 3",
   "language": "python",
   "name": "python3"
  },
  "language_info": {
   "codemirror_mode": {
    "name": "ipython",
    "version": 3
   },
   "file_extension": ".py",
   "mimetype": "text/x-python",
   "name": "python",
   "nbconvert_exporter": "python",
   "pygments_lexer": "ipython3",
   "version": "3.7.1"
  }
 },
 "nbformat": 4,
 "nbformat_minor": 2
}
