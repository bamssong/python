{
 "cells": [
  {
   "cell_type": "markdown",
   "metadata": {},
   "source": [
    "# [파이썬으로 배우는 알고리즘 트레이딩 (4쇄)](https://wikidocs.net/book/110) 따라하기\n",
    "필요 조건 : \n",
    "1. 윈도우 OS 환경 : 키움증권 API 이용 시 필수\n",
    "2. 파이썬 기초 지식"
   ]
  },
  {
   "cell_type": "markdown",
   "metadata": {},
   "source": [
    "## 들어가기 전\n",
    "\n",
    "#### 1. [git 튜토리얼 - sourcetree](https://backlog.com/git-tutorial/kr/)\n",
    "파일의 변경사항을 추적\n",
    "\n",
    "#### 2. [github 가입하기](https://github.com/)\n",
    "\n",
    "#### 3. git tools 설치하기\n",
    "- [git kraken](https://www.gitkraken.com/)\n",
    "- [git sourcetree](https://www.sourcetreeapp.com/)\n",
    "- [tortoisegit](https://tortoisegit.org/)\n",
    "\n",
    "#### 4. [anaconda 설치하기](https://www.anaconda.com/)\n",
    "\n",
    "#### 5. [COM(Component Object Model)이란?](https://ko.wikipedia.org/wiki/%EC%BB%B4%ED%8F%AC%EB%84%8C%ED%8A%B8_%EC%98%A4%EB%B8%8C%EC%A0%9D%ED%8A%B8_%EB%AA%A8%EB%8D%B8)\n",
    "MS의 소프트웨어 컴퓨넌트를 위한 이진 인터페이스 표준 (DLL, EXE 형태의 단위 소프트웨어 모듈)\n",
    "\n",
    "\n",
    "#### 6. [PyQt5](https://wikidocs.net/book/2165)\n",
    "\n",
    "\n",
    "#### 7. [exe파일 만들기](https://www.pyinstaller.org/)\n"
   ]
  },
  {
   "cell_type": "markdown",
   "metadata": {},
   "source": [
    "## 파이썬에서 COM 사용해 보기, win32com"
   ]
  },
  {
   "cell_type": "code",
   "execution_count": 1,
   "metadata": {},
   "outputs": [],
   "source": [
    "# 익스플로어 app 실행해보기\n",
    "import win32com.client\n",
    "\n",
    "explore = win32com.client.Dispatch('InternetExplorer.Application')\n",
    "explore.Visible = True"
   ]
  },
  {
   "cell_type": "code",
   "execution_count": 2,
   "metadata": {},
   "outputs": [
    {
     "ename": "NameError",
     "evalue": "name 'win32com' is not defined",
     "output_type": "error",
     "traceback": [
      "\u001b[0;31m---------------------------------------------------------------------------\u001b[0m",
      "\u001b[0;31mNameError\u001b[0m                                 Traceback (most recent call last)",
      "\u001b[0;32m<ipython-input-2-63474c324b08>\u001b[0m in \u001b[0;36m<module>\u001b[0;34m\u001b[0m\n\u001b[1;32m      1\u001b[0m \u001b[0;31m# 엑셀파일 pandas 사용하기.\u001b[0m\u001b[0;34m\u001b[0m\u001b[0;34m\u001b[0m\u001b[0;34m\u001b[0m\u001b[0m\n\u001b[0;32m----> 2\u001b[0;31m \u001b[0mexcel\u001b[0m \u001b[0;34m=\u001b[0m \u001b[0mwin32com\u001b[0m\u001b[0;34m.\u001b[0m\u001b[0mclient\u001b[0m\u001b[0;34m.\u001b[0m\u001b[0mDispatch\u001b[0m\u001b[0;34m(\u001b[0m\u001b[0;34m'Word.Application'\u001b[0m\u001b[0;34m)\u001b[0m\u001b[0;34m\u001b[0m\u001b[0;34m\u001b[0m\u001b[0m\n\u001b[0m\u001b[1;32m      3\u001b[0m \u001b[0mexcel\u001b[0m\u001b[0;34m.\u001b[0m\u001b[0mVisible\u001b[0m \u001b[0;34m=\u001b[0m \u001b[0;32mTrue\u001b[0m\u001b[0;34m\u001b[0m\u001b[0;34m\u001b[0m\u001b[0m\n",
      "\u001b[0;31mNameError\u001b[0m: name 'win32com' is not defined"
     ]
    }
   ],
   "source": [
    "# 엑셀파일 pandas 사용하기.\n",
    "excel = win32com.client.Dispatch('Word.Application')\n",
    "excel.Visible = True"
   ]
  },
  {
   "cell_type": "markdown",
   "metadata": {},
   "source": [
    "## padas 이용 excel 파일 읽기\n",
    "(-> pandas.ipynb)\n",
    "\n",
    "[read](http://pandas.pydata.org/pandas-docs/stable/reference/api/pandas.read_excel.html?highlight=excel#pandas.read_excel)"
   ]
  },
  {
   "cell_type": "code",
   "execution_count": 3,
   "metadata": {},
   "outputs": [
    {
     "name": "stdout",
     "output_type": "stream",
     "text": [
      "           A000020 A000030\n",
      "NaN           동화약품    우리은행\n",
      "10/31/2017    8840   16400\n",
      "11/30/2017   10300   16200\n",
      "12/28/2017    9750   15750\n",
      "1/31/2018    10800   16850\n",
      "2/28/2018    11400   16600\n",
      "3/30/2018    12250   14650\n",
      "4/30/2018    11550   16050\n",
      "5/31/2018    11450   15300\n",
      "6/29/2018    10200   16300\n",
      "7/31/2018    11050   16900\n",
      "8/31/2018    11600   16300\n",
      "9/28/2018    11350   16900\n",
      "10/31/2018    9050   15750\n",
      "11/30/2018    9110   15650\n",
      "12/28/2018    9100   15600\n",
      "1/28/2019     9930   14800\n",
      "Index(['A000020', 'A000030'], dtype='object')\n",
      "Index([         nan, '10/31/2017', '11/30/2017', '12/28/2017',  '1/31/2018',\n",
      "        '2/28/2018',  '3/30/2018',  '4/30/2018',  '5/31/2018',  '6/29/2018',\n",
      "        '7/31/2018',  '8/31/2018',  '9/28/2018', '10/31/2018', '11/30/2018',\n",
      "       '12/28/2018',  '1/28/2019'],\n",
      "      dtype='object')\n"
     ]
    }
   ],
   "source": [
    "from pandas import Series, DataFrame\n",
    "import pandas as pd\n",
    "\n",
    "stocks = pd.read_excel('../data/sample.xlsx',sheet_name='stock')\n",
    "print(stocks)\n",
    "\n",
    "print(stocks.columns)\n",
    "print(stocks.index)\n",
    "\n",
    "stocks.to_excel('../data/result.xlsx')\n",
    "stocks.to_csv('../data/result.csv')"
   ]
  },
  {
   "cell_type": "markdown",
   "metadata": {},
   "source": [
    "## 키움증권 API \n",
    "\n",
    "### 개발 환경 구축\n",
    "1.키움증권 계좌 개설 :  모바일(MTS) 키움증권 비대면 계좌개설 앱 설치 후 계좌 개설.\n",
    "\n",
    "2.[키움증권 홈페이지](https://www.kiwoom.com/)\n",
    "\n",
    "- STEP 1. Open API 사용신청 합니다.\n",
    "- STEP 2. OpenAPI+ 모듈 다운로드 및 설치\n",
    "- STEP 3. Open API OCX 탑재 프로그램 제작 및 KOA Studio 활용\n",
    "- STEP 4. 모의환경 테스트\n",
    "\n",
    "[자세히보기](https://www2.kiwoom.com/nkw.templateFrameSet.do?m=m1408000000)\n",
    "\n",
    "\n",
    "### 개발환경\n",
    "\n",
    "- 키움 Open API 는 프로그램 개발 확장성을 고려하여 OCX 컨트롤로 제작 지원합니다.\n",
    "- 사용자 편의에 따라 VB, 엑셀, 웹기반, MFC 등으로 프로그램 제작이 가능합니다.\n",
    "- 데이터 요청 및 수신은 TR 서비스명을 검색한 후 OCX를 통해 API 함수를 호출하는 방식으로 진행합니다.\n",
    "\n",
    "\n",
    "\n",
    "### 기타\n",
    "- KOA Studio 오류 발생 시 [링크](https://goni9071.tistory.com/entry/%ED%82%A4%EC%9B%80-KOAStudioSAexe-KOA-%EC%8A%A4%ED%8A%9C%EB%94%94%EC%98%A4-%EC%8B%A4%ED%96%89%EC%8B%9C-mfc100dll-%EC%98%A4%EB%A5%98)\n"
   ]
  },
  {
   "cell_type": "code",
   "execution_count": null,
   "metadata": {},
   "outputs": [],
   "source": []
  }
 ],
 "metadata": {
  "kernelspec": {
   "display_name": "Python 3",
   "language": "python",
   "name": "python3"
  },
  "language_info": {
   "codemirror_mode": {
    "name": "ipython",
    "version": 3
   },
   "file_extension": ".py",
   "mimetype": "text/x-python",
   "name": "python",
   "nbconvert_exporter": "python",
   "pygments_lexer": "ipython3",
   "version": "3.6.8"
  }
 },
 "nbformat": 4,
 "nbformat_minor": 2
}
