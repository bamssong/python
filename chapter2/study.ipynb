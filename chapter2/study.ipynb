{
 "cells": [
  {
   "cell_type": "markdown",
   "metadata": {},
   "source": [
    "# [파이썬으로 배우는 알고리즘 트레이딩 (4쇄)](https://wikidocs.net/book/110) 따라하기\n",
    "필요 조건 : \n",
    "1. 윈도우 OS 환경 : 키움증권 API 이용 시 필수\n",
    "2. 파이썬 기초 지식\n",
    "\n",
    "- 키움증권 API 는 OCX 컨트롤 32bit 환경으로 처리해야하기 때문에 따로 정리\n",
    "\n",
    "[study_for_kiwoom.ipynb](../chapter2_kiwoom/study_for_kiwoom.ipynb) 파일을 참고"
   ]
  },
  {
   "cell_type": "markdown",
   "metadata": {},
   "source": [
    "## 들어가기 전\n",
    "\n",
    "#### 1. [git 튜토리얼 - sourcetree](https://backlog.com/git-tutorial/kr/)\n",
    "파일의 변경사항을 추적\n",
    "\n",
    "#### 2. [github 가입하기](https://github.com/)\n",
    "\n",
    "#### 3. git tools 설치하기\n",
    "- [git kraken](https://www.gitkraken.com/)\n",
    "- [git sourcetree](https://www.sourcetreeapp.com/)\n",
    "- [tortoisegit](https://tortoisegit.org/)\n",
    "\n",
    "#### 4. [anaconda 설치하기](https://www.anaconda.com/)\n",
    "\n",
    "#### 5. [COM(Component Object Model)이란?](https://ko.wikipedia.org/wiki/%EC%BB%B4%ED%8F%AC%EB%84%8C%ED%8A%B8_%EC%98%A4%EB%B8%8C%EC%A0%9D%ED%8A%B8_%EB%AA%A8%EB%8D%B8)\n",
    "MS의 소프트웨어 컴퓨넌트를 위한 이진 인터페이스 표준 (DLL, EXE 형태의 단위 소프트웨어 모듈)\n",
    "\n",
    "\n",
    "#### 6. [PyQt5](https://wikidocs.net/book/2165)\n",
    "\n",
    "\n",
    "#### 7. [exe파일 만들기](https://www.pyinstaller.org/)\n"
   ]
  },
  {
   "cell_type": "markdown",
   "metadata": {},
   "source": [
    "## 파이썬에서 COM 사용해 보기, win32com"
   ]
  },
  {
   "cell_type": "code",
   "execution_count": 1,
   "metadata": {},
   "outputs": [],
   "source": [
    "# 익스플로어 app 실행해보기\n",
    "import win32com.client\n",
    "\n",
    "explore = win32com.client.Dispatch('InternetExplorer.Application')\n",
    "explore.Visible = True"
   ]
  },
  {
   "cell_type": "code",
   "execution_count": null,
   "metadata": {},
   "outputs": [],
   "source": [
    "# 엑셀파일 pandas 사용하기.\n",
    "excel = win32com.client.Dispatch('Word.Application')\n",
    "excel.Visible = True"
   ]
  },
  {
   "cell_type": "markdown",
   "metadata": {},
   "source": [
    "## padas 이용 excel 파일 읽기\n",
    "(-> pandas.ipynb)\n",
    "\n",
    "[read](http://pandas.pydata.org/pandas-docs/stable/reference/api/pandas.read_excel.html?highlight=excel#pandas.read_excel)"
   ]
  },
  {
   "cell_type": "code",
   "execution_count": 2,
   "metadata": {},
   "outputs": [
    {
     "name": "stdout",
     "output_type": "stream",
     "text": [
      "           A000020 A000030\n",
      "NaN           동화약품    우리은행\n",
      "10/31/2017    8840   16400\n",
      "11/30/2017   10300   16200\n",
      "12/28/2017    9750   15750\n",
      "1/31/2018    10800   16850\n",
      "2/28/2018    11400   16600\n",
      "3/30/2018    12250   14650\n",
      "4/30/2018    11550   16050\n",
      "5/31/2018    11450   15300\n",
      "6/29/2018    10200   16300\n",
      "7/31/2018    11050   16900\n",
      "8/31/2018    11600   16300\n",
      "9/28/2018    11350   16900\n",
      "10/31/2018    9050   15750\n",
      "11/30/2018    9110   15650\n",
      "12/28/2018    9100   15600\n",
      "1/28/2019     9930   14800\n",
      "Index(['A000020', 'A000030'], dtype='object')\n",
      "Index([         nan, '10/31/2017', '11/30/2017', '12/28/2017',  '1/31/2018',\n",
      "        '2/28/2018',  '3/30/2018',  '4/30/2018',  '5/31/2018',  '6/29/2018',\n",
      "        '7/31/2018',  '8/31/2018',  '9/28/2018', '10/31/2018', '11/30/2018',\n",
      "       '12/28/2018',  '1/28/2019'],\n",
      "      dtype='object')\n"
     ]
    }
   ],
   "source": [
    "from pandas import Series, DataFrame\n",
    "import pandas as pd\n",
    "\n",
    "stocks = pd.read_excel('../data/sample.xlsx',sheet_name='stock')\n",
    "print(stocks)\n",
    "\n",
    "print(stocks.columns)\n",
    "print(stocks.index)\n",
    "\n",
    "stocks.to_excel('../data/result.xlsx')\n",
    "stocks.to_csv('../data/result.csv')"
   ]
  },
  {
   "cell_type": "markdown",
   "metadata": {},
   "source": [
    "## PyQt5 사용하기\n",
    "anaconda > environments > pyqt 관련 설치.\n",
    "pycharm은 Setting > Project Interpreter > anaconda environments 생성한걸로 설정함."
   ]
  },
  {
   "cell_type": "code",
   "execution_count": 2,
   "metadata": {},
   "outputs": [
    {
     "name": "stdout",
     "output_type": "stream",
     "text": [
      "['C:\\\\Users\\\\bamssong\\\\Anaconda3\\\\lib\\\\site-packages\\\\ipykernel_launcher.py', '-f', 'C:\\\\Users\\\\bamssong\\\\AppData\\\\Roaming\\\\jupyter\\\\runtime\\\\kernel-9d05bc41-bc13-4312-85e0-40dea78f32d2.json']\n"
     ]
    }
   ],
   "source": [
    "import sys\n",
    "from PyQt5.QtWidgets import *\n",
    "\n",
    "print(sys.argv)"
   ]
  },
  {
   "cell_type": "code",
   "execution_count": null,
   "metadata": {},
   "outputs": [],
   "source": [
    "def hello_pyqt():\n",
    "    app = QApplication(sys.argv)\n",
    "    label = QLabel(\"Hello PyQt\")\n",
    "    label.show()\n",
    "    app.exec_()\n",
    "\n",
    "\n",
    "hello_pyqt()"
   ]
  },
  {
   "cell_type": "code",
   "execution_count": null,
   "metadata": {},
   "outputs": [],
   "source": [
    "class MyWindow(QMainWindow):\n",
    "    def __init__(self):\n",
    "        super().__init__()\n",
    "        self.setWindowTitle(\"PyStock\")\n",
    "        self.setGeometry(300, 300, 300, 400)\n",
    "\n",
    "        btn1 = QPushButton(\"Click me\", self)\n",
    "        btn1.move(20, 20)\n",
    "        btn1.clicked.connect(self.btn1_clicked)\n",
    "\n",
    "    def btn1_clicked(self):\n",
    "        QMessageBox.about(self, \"message\", \"clicked\")\n",
    "\n",
    "\n",
    "app = QApplication(sys.argv)\n",
    "myWindow = MyWindow()\n",
    "myWindow.show()\n",
    "app.exec_()"
   ]
  }
 ],
 "metadata": {
  "kernelspec": {
   "display_name": "Python 3",
   "language": "python",
   "name": "python3"
  },
  "language_info": {
   "codemirror_mode": {
    "name": "ipython",
    "version": 3
   },
   "file_extension": ".py",
   "mimetype": "text/x-python",
   "name": "python",
   "nbconvert_exporter": "python",
   "pygments_lexer": "ipython3",
   "version": "3.7.1"
  }
 },
 "nbformat": 4,
 "nbformat_minor": 2
}
