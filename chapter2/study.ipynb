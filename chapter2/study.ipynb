{
 "cells": [
  {
   "cell_type": "markdown",
   "metadata": {},
   "source": [
    "# [파이썬으로 배우는 알고리즘 트레이딩 (4쇄)](https://wikidocs.net/book/110) 따라하기\n",
    "\n",
    "\n",
    "## 시작하기전 살펴보기\n",
    "\n",
    "- [git 튜토리얼 - sourcetree](https://backlog.com/git-tutorial/kr/):파일의 변경사항을 추적\n",
    "- [github 가입하기](https://github.com/)\n",
    "- git tools 설치하기\n",
    "\n",
    ">[git kraken](https://www.gitkraken.com/)\n",
    "\n",
    ">[git sourcetree](https://www.sourcetreeapp.com/)\n",
    "\n",
    ">[tortoisegit](https://tortoisegit.org/)\n",
    "\n",
    "- [anaconda 설치하기](https://www.anaconda.com/)\n",
    "- [COM(Component Object Model)이란?](https://ko.wikipedia.org/wiki/%EC%BB%B4%ED%8F%AC%EB%84%8C%ED%8A%B8_%EC%98%A4%EB%B8%8C%EC%A0%9D%ED%8A%B8_%EB%AA%A8%EB%8D%B8)\n",
    "MS의 소프트웨어 컴퓨넌트를 위한 이진 인터페이스 표준 (DLL, EXE 형태의 단위 소프트웨어 모듈)\n",
    "- [PyQt5](https://wikidocs.net/book/2165)\n",
    "- [exe파일 만들기](https://www.pyinstaller.org/)\n",
    "\n",
    "\n",
    "## 환경 설정\n",
    "#### 환경 \n",
    "```\n",
    "windows 10 64bit\n",
    "anaconda : Anaconda3-2018.12-Windows-x86_64\n",
    "pycharm : pycharm-community-2018.3.4\n",
    "```\n",
    "\n",
    "#### 키움증권 개발 환경 설정\n",
    "- 키움 Open API 는 프로그램 개발 확장성을 고려하여 OCX 컨트롤로 제작 지원합니다.\n",
    "- 사용자 편의에 따라 VB, 엑셀, 웹기반, MFC 등으로 프로그램 제작이 가능합니다.\n",
    "- 데이터 요청 및 수신은 TR 서비스명을 검색한 후 OCX를 통해 API 함수를 호출하는 방식으로 진행합니다.\n",
    "\n",
    "\n",
    "- 키움증권 계좌 개설 :  모바일(MTS) 키움증권 비대면 계좌개설 앱 설치 후 계좌 개설.\n",
    "- [키움증권 홈페이지](https://www.kiwoom.com/)\n",
    "```\n",
    "STEP 1. Open API 사용신청 합니다.\n",
    "STEP 2. OpenAPI+ 모듈 다운로드 및 설치\n",
    "STEP 3. Open API OCX 탑재 프로그램 제작 및 KOA Studio 활용\n",
    "STEP 4. 모의환경 테스트\n",
    "```\n",
    "[자세히보기](https://www2.kiwoom.com/nkw.templateFrameSet.do?m=m1408000000)\n",
    "\n",
    "\n",
    "\n",
    "#### anaconda environment 설정\n",
    "- python version 3.5, 32bit용 생성 : \n",
    "    - 키움증권 API, OCX 컨트롤 사용 시 32bit 환경이어야 함\n",
    "    - [zipline 설치](http://www.zipline.io/index.html) version 3.5\n",
    "    - zipline을 위한 Visual C++ 14.0 설치(python 3.5) [참고링크](https://newinvest.tistory.com/23)\n",
    "    \n",
    "    ![Visual C++ 14.0 설치](./res/vc_install.png) \n",
    "\n",
    "- 생성 방법, [참고링크](https://sijoo.tistory.com/405)\n",
    "\n",
    "```\n",
    "# anaconda prompy 실행 & update\n",
    "> conda update conda\n",
    "\n",
    "# 목록 보기 \n",
    "> conda env list\n",
    "\n",
    "# 설정 보기\n",
    "> conda info\n",
    "\n",
    "# ver 3.5, 32bit용 생성.\n",
    "> set CONDA_FORCE_32BIT=1\n",
    "> conda create -n py35_32bit python=3.5 anaconda\n",
    "\n",
    "# 활성화 시키기\n",
    "> activate py35_32bit\n",
    "\n",
    "# pyqt5 설치\n",
    "> pip install pyqt5\n",
    "\n",
    "# zipline 설치 (설치 전, Visual C++ 14.0 미리 설치 )\n",
    "> pip install zipline\n",
    "```\n",
    "\n",
    " ![conda info](./res/conda_info.png) \n",
    "\n",
    "\n",
    "\n",
    "- 그 외\n",
    "\n",
    "```\n",
    "# 비활성화 시키기\n",
    "> deactivate py35_32bit\n",
    "\n",
    "# mac 에서 사용 시 \n",
    "> source activate py35_32bit\n",
    "\n",
    "# 64bit로 돌리기\n",
    "set CONDA_FORCE_32BIT=\n",
    "\n",
    "# pycharm 사용 시 interpreter 'py35_32bit' 설정 \n",
    "```\n",
    "\n",
    "- 이슈 모음\n",
    "[anaconda navigator freezes on loading applications](https://github.com/ContinuumIO/anaconda-issues/issues/9864)\n",
    "\n",
    "```\n",
    "> anaconda-navigator --verbose --debug\n",
    "```"
   ]
  },
  {
   "cell_type": "markdown",
   "metadata": {},
   "source": [
    "## 파이썬에서 COM 사용해 보기, win32com"
   ]
  },
  {
   "cell_type": "code",
   "execution_count": 1,
   "metadata": {},
   "outputs": [
    {
     "ename": "ModuleNotFoundError",
     "evalue": "No module named 'win32com'",
     "output_type": "error",
     "traceback": [
      "\u001b[0;31m---------------------------------------------------------------------------\u001b[0m",
      "\u001b[0;31mModuleNotFoundError\u001b[0m                       Traceback (most recent call last)",
      "\u001b[0;32m<ipython-input-1-da6509465bd0>\u001b[0m in \u001b[0;36m<module>\u001b[0;34m\u001b[0m\n\u001b[1;32m      1\u001b[0m \u001b[0;31m# 익스플로어 app 실행해보기\u001b[0m\u001b[0;34m\u001b[0m\u001b[0;34m\u001b[0m\u001b[0;34m\u001b[0m\u001b[0m\n\u001b[0;32m----> 2\u001b[0;31m \u001b[0;32mimport\u001b[0m \u001b[0mwin32com\u001b[0m\u001b[0;34m.\u001b[0m\u001b[0mclient\u001b[0m\u001b[0;34m\u001b[0m\u001b[0;34m\u001b[0m\u001b[0m\n\u001b[0m\u001b[1;32m      3\u001b[0m \u001b[0;34m\u001b[0m\u001b[0m\n\u001b[1;32m      4\u001b[0m \u001b[0mexplore\u001b[0m \u001b[0;34m=\u001b[0m \u001b[0mwin32com\u001b[0m\u001b[0;34m.\u001b[0m\u001b[0mclient\u001b[0m\u001b[0;34m.\u001b[0m\u001b[0mDispatch\u001b[0m\u001b[0;34m(\u001b[0m\u001b[0;34m'InternetExplorer.Application'\u001b[0m\u001b[0;34m)\u001b[0m\u001b[0;34m\u001b[0m\u001b[0;34m\u001b[0m\u001b[0m\n\u001b[1;32m      5\u001b[0m \u001b[0mexplore\u001b[0m\u001b[0;34m.\u001b[0m\u001b[0mVisible\u001b[0m \u001b[0;34m=\u001b[0m \u001b[0;32mTrue\u001b[0m\u001b[0;34m\u001b[0m\u001b[0;34m\u001b[0m\u001b[0m\n",
      "\u001b[0;31mModuleNotFoundError\u001b[0m: No module named 'win32com'"
     ]
    }
   ],
   "source": [
    "# 익스플로어 app 실행해보기\n",
    "import win32com.client\n",
    "\n",
    "explore = win32com.client.Dispatch('InternetExplorer.Application')\n",
    "explore.Visible = True"
   ]
  },
  {
   "cell_type": "code",
   "execution_count": 2,
   "metadata": {},
   "outputs": [
    {
     "ename": "NameError",
     "evalue": "name 'win32com' is not defined",
     "output_type": "error",
     "traceback": [
      "\u001b[0;31m---------------------------------------------------------------------------\u001b[0m",
      "\u001b[0;31mNameError\u001b[0m                                 Traceback (most recent call last)",
      "\u001b[0;32m<ipython-input-2-63474c324b08>\u001b[0m in \u001b[0;36m<module>\u001b[0;34m\u001b[0m\n\u001b[1;32m      1\u001b[0m \u001b[0;31m# 엑셀파일 pandas 사용하기.\u001b[0m\u001b[0;34m\u001b[0m\u001b[0;34m\u001b[0m\u001b[0;34m\u001b[0m\u001b[0m\n\u001b[0;32m----> 2\u001b[0;31m \u001b[0mexcel\u001b[0m \u001b[0;34m=\u001b[0m \u001b[0mwin32com\u001b[0m\u001b[0;34m.\u001b[0m\u001b[0mclient\u001b[0m\u001b[0;34m.\u001b[0m\u001b[0mDispatch\u001b[0m\u001b[0;34m(\u001b[0m\u001b[0;34m'Word.Application'\u001b[0m\u001b[0;34m)\u001b[0m\u001b[0;34m\u001b[0m\u001b[0;34m\u001b[0m\u001b[0m\n\u001b[0m\u001b[1;32m      3\u001b[0m \u001b[0mexcel\u001b[0m\u001b[0;34m.\u001b[0m\u001b[0mVisible\u001b[0m \u001b[0;34m=\u001b[0m \u001b[0;32mTrue\u001b[0m\u001b[0;34m\u001b[0m\u001b[0;34m\u001b[0m\u001b[0m\n",
      "\u001b[0;31mNameError\u001b[0m: name 'win32com' is not defined"
     ]
    }
   ],
   "source": [
    "# 엑셀파일 pandas 사용하기.\n",
    "excel = win32com.client.Dispatch('Word.Application')\n",
    "excel.Visible = True"
   ]
  },
  {
   "cell_type": "markdown",
   "metadata": {},
   "source": [
    "## padas 이용 excel 파일 읽기\n",
    "(-> pandas.ipynb)\n",
    "\n",
    "[read](http://pandas.pydata.org/pandas-docs/stable/reference/api/pandas.read_excel.html?highlight=excel#pandas.read_excel)"
   ]
  },
  {
   "cell_type": "code",
   "execution_count": 3,
   "metadata": {},
   "outputs": [
    {
     "name": "stdout",
     "output_type": "stream",
     "text": [
      "           A000020 A000030\n",
      "NaN           동화약품    우리은행\n",
      "10/31/2017    8840   16400\n",
      "11/30/2017   10300   16200\n",
      "12/28/2017    9750   15750\n",
      "1/31/2018    10800   16850\n",
      "2/28/2018    11400   16600\n",
      "3/30/2018    12250   14650\n",
      "4/30/2018    11550   16050\n",
      "5/31/2018    11450   15300\n",
      "6/29/2018    10200   16300\n",
      "7/31/2018    11050   16900\n",
      "8/31/2018    11600   16300\n",
      "9/28/2018    11350   16900\n",
      "10/31/2018    9050   15750\n",
      "11/30/2018    9110   15650\n",
      "12/28/2018    9100   15600\n",
      "1/28/2019     9930   14800\n",
      "Index(['A000020', 'A000030'], dtype='object')\n",
      "Index([         nan, '10/31/2017', '11/30/2017', '12/28/2017',  '1/31/2018',\n",
      "        '2/28/2018',  '3/30/2018',  '4/30/2018',  '5/31/2018',  '6/29/2018',\n",
      "        '7/31/2018',  '8/31/2018',  '9/28/2018', '10/31/2018', '11/30/2018',\n",
      "       '12/28/2018',  '1/28/2019'],\n",
      "      dtype='object')\n"
     ]
    }
   ],
   "source": [
    "from pandas import Series, DataFrame\n",
    "import pandas as pd\n",
    "\n",
    "stocks = pd.read_excel('../data/sample.xlsx',sheet_name='stock')\n",
    "print(stocks)\n",
    "\n",
    "print(stocks.columns)\n",
    "print(stocks.index)\n",
    "\n",
    "stocks.to_excel('../data/result.xlsx')\n",
    "stocks.to_csv('../data/result.csv')"
   ]
  },
  {
   "cell_type": "markdown",
   "metadata": {},
   "source": [
    "## PyQt5 사용하기\n",
    "anaconda > environments > pyqt 관련 설치.\n",
    "pycharm은 Setting > Project Interpreter > anaconda environments 생성한걸로 설정함."
   ]
  },
  {
   "cell_type": "code",
   "execution_count": 4,
   "metadata": {},
   "outputs": [
    {
     "name": "stdout",
     "output_type": "stream",
     "text": [
      "['/Users/bamssong/anaconda3/lib/python3.6/site-packages/ipykernel_launcher.py', '-f', '/Users/bamssong/Library/Jupyter/runtime/kernel-6ef19eb2-7ef6-4f64-8b3c-dfc64c9731b1.json']\n"
     ]
    }
   ],
   "source": [
    "import sys\n",
    "from PyQt5.QtWidgets import *\n",
    "\n",
    "print(sys.argv)"
   ]
  },
  {
   "cell_type": "code",
   "execution_count": 5,
   "metadata": {},
   "outputs": [],
   "source": [
    "def hello_pyqt():\n",
    "    app = QApplication(sys.argv)\n",
    "    label = QLabel(\"Hello PyQt\")\n",
    "    label.show()\n",
    "    app.exec_()\n",
    "\n",
    "\n",
    "hello_pyqt()"
   ]
  },
  {
   "cell_type": "code",
   "execution_count": 6,
   "metadata": {},
   "outputs": [
    {
     "data": {
      "text/plain": [
       "0"
      ]
     },
     "execution_count": 6,
     "metadata": {},
     "output_type": "execute_result"
    }
   ],
   "source": [
    "class MyWindow(QMainWindow):\n",
    "    def __init__(self):\n",
    "        super().__init__()\n",
    "        self.setWindowTitle(\"PyStock\")\n",
    "        self.setGeometry(300, 300, 300, 400)\n",
    "\n",
    "        btn1 = QPushButton(\"Click me\", self)\n",
    "        btn1.move(20, 20)\n",
    "        btn1.clicked.connect(self.btn1_clicked)\n",
    "\n",
    "    def btn1_clicked(self):\n",
    "        QMessageBox.about(self, \"message\", \"clicked\")\n",
    "\n",
    "\n",
    "app = QApplication(sys.argv)\n",
    "myWindow = MyWindow()\n",
    "myWindow.show()\n",
    "app.exec_()"
   ]
  },
  {
   "cell_type": "markdown",
   "metadata": {},
   "source": [
    "## Pandas & zipline 이용한 백테스팅\n",
    "\n",
    "백테스팅이란 개발된 알고리즘을 과거 데이터를 사용해 검증해보는 것을 의미\n",
    "\n",
    "#### [zipline 설치](https://github.com/quantopian/zipline)\n",
    "\n",
    "#### [zipline 기초](http://www.zipline.io/index.html)\n",
    "![zipline](./res/zipline_00.png) \n",
    "\n",
    "\n",
    "#### 이동평균선 전략 백테스트\n",
    "![골든크로스&데드크로스](./res/zipline_01.png) "
   ]
  },
  {
   "cell_type": "code",
   "execution_count": 7,
   "metadata": {},
   "outputs": [
    {
     "ename": "ModuleNotFoundError",
     "evalue": "No module named 'zipline'",
     "output_type": "error",
     "traceback": [
      "\u001b[0;31m---------------------------------------------------------------------------\u001b[0m",
      "\u001b[0;31mModuleNotFoundError\u001b[0m                       Traceback (most recent call last)",
      "\u001b[0;32m<ipython-input-7-52a5527a5e91>\u001b[0m in \u001b[0;36m<module>\u001b[0;34m\u001b[0m\n\u001b[1;32m      1\u001b[0m \u001b[0;32mimport\u001b[0m \u001b[0mpandas_datareader\u001b[0m\u001b[0;34m.\u001b[0m\u001b[0mdata\u001b[0m \u001b[0;32mas\u001b[0m \u001b[0mpd_data\u001b[0m\u001b[0;34m\u001b[0m\u001b[0;34m\u001b[0m\u001b[0m\n\u001b[1;32m      2\u001b[0m \u001b[0;32mimport\u001b[0m \u001b[0mdatetime\u001b[0m\u001b[0;34m\u001b[0m\u001b[0;34m\u001b[0m\u001b[0m\n\u001b[0;32m----> 3\u001b[0;31m \u001b[0;32mfrom\u001b[0m \u001b[0mzipline\u001b[0m\u001b[0;34m.\u001b[0m\u001b[0mapi\u001b[0m \u001b[0;32mimport\u001b[0m \u001b[0morder_target\u001b[0m\u001b[0;34m,\u001b[0m \u001b[0mrecord\u001b[0m\u001b[0;34m,\u001b[0m \u001b[0msymbol\u001b[0m\u001b[0;34m,\u001b[0m \u001b[0morder\u001b[0m\u001b[0;34m,\u001b[0m \u001b[0mset_commission\u001b[0m\u001b[0;34m\u001b[0m\u001b[0;34m\u001b[0m\u001b[0m\n\u001b[0m\u001b[1;32m      4\u001b[0m \u001b[0;32mfrom\u001b[0m \u001b[0mzipline\u001b[0m\u001b[0;34m.\u001b[0m\u001b[0mfinance\u001b[0m \u001b[0;32mimport\u001b[0m \u001b[0mcommission\u001b[0m\u001b[0;34m\u001b[0m\u001b[0;34m\u001b[0m\u001b[0m\n\u001b[1;32m      5\u001b[0m \u001b[0;32mfrom\u001b[0m \u001b[0mzipline\u001b[0m\u001b[0;34m.\u001b[0m\u001b[0mutils\u001b[0m\u001b[0;34m.\u001b[0m\u001b[0mfactory\u001b[0m \u001b[0;32mimport\u001b[0m \u001b[0mcreate_simulation_parameters\u001b[0m\u001b[0;34m\u001b[0m\u001b[0;34m\u001b[0m\u001b[0m\n",
      "\u001b[0;31mModuleNotFoundError\u001b[0m: No module named 'zipline'"
     ]
    }
   ],
   "source": [
    "import pandas_datareader.data as pd_data\n",
    "import datetime\n",
    "from zipline.api import order_target, record, symbol, order, set_commission\n",
    "from zipline.finance import commission\n",
    "from zipline.utils.factory import create_simulation_parameters\n",
    "from zipline.algorithm import TradingAlgorithm\n",
    "import matplotlib.pyplot as plt"
   ]
  },
  {
   "cell_type": "code",
   "execution_count": null,
   "metadata": {},
   "outputs": [],
   "source": [
    "# 주식 데이터 가져오기.\n",
    "def get_data(code, start_date, end_date):\n",
    "    data = pd_data.DataReader(code, \"yahoo\", start_date, end_date)\n",
    "    return data\n",
    "\n",
    "start = datetime.datetime(2013, 1, 1)\n",
    "end = datetime.datetime(2016, 3, 29)\n",
    "aapl = get_data('AAPL', start, end)\n",
    "print(aapl)"
   ]
  },
  {
   "cell_type": "code",
   "execution_count": null,
   "metadata": {},
   "outputs": [],
   "source": [
    "# 주식 데이터 zipline 요청 데이터로 map처리\n",
    "def get_data_for_zipline(code, start_date, end_date):\n",
    "    # code : 주식코드\n",
    "    data = get_data(code, start_date, end_date)\n",
    "    data = data[['Adj Close']]  # 종가만 가져오기.\n",
    "    data.columns = [code]  # 컬럼명 바꾸기.\n",
    "    data = data.tz_localize('UTC')  # 타임존 처리.\n",
    "    return data\n",
    "\n",
    "start_date = datetime.datetime(2013, 1, 1)\n",
    "end_date = datetime.datetime(2016, 3, 29)\n",
    "aapl_zipline = get_data_for_zipline('AAPL', start_date, end_date)\n",
    "print(aapl_zipline)"
   ]
  },
  {
   "cell_type": "code",
   "execution_count": null,
   "metadata": {},
   "outputs": [],
   "source": [
    "# 일일 매수 알고리즘을 시뮬레이션한 결과(애플 주식)\n",
    "\n",
    "# 애플 주식 코드.\n",
    "code = 'AAPL'\n",
    "# aapl_zipline : data\n",
    "data = aapl_zipline\n",
    "\n",
    "\n",
    "def initialize(context):\n",
    "    pass\n",
    "\n",
    "def handle_data(context, _data):\n",
    "    order(symbol(code), 1)\n",
    "\n",
    "algo = TradingAlgorithm(initialize=initialize, handle_data=handle_data)\n",
    "result = algo.run(data)\n",
    "\n",
    "print(result.head())\n",
    "plt.plot(result.index, result.portfolio_value)"
   ]
  },
  {
   "cell_type": "code",
   "execution_count": null,
   "metadata": {},
   "outputs": [],
   "source": [
    "# 이동평균선 알고리즘에 대한 백테스팅\n",
    "\n",
    "# 애플 주식 코드.\n",
    "code = 'AAPL'\n",
    "# aapl_zipline : data\n",
    "data = aapl_zipline\n",
    "\n",
    "def initialize(context):\n",
    "    context.i = 0\n",
    "    context.count = 0\n",
    "    context.sym = symbol(code)\n",
    "\n",
    "def handle_data(context, _data):\n",
    "    context.i += 1\n",
    "    if context.i < 20:\n",
    "        return\n",
    "\n",
    "    ma5 = _data.history(context.sym, 'price', 5, '1d').mean()\n",
    "    ma20 = _data.history(context.sym, 'price', 20, '1d').mean()\n",
    "\n",
    "    if ma5 > ma20:\n",
    "        order_target(context.sym, 1)\n",
    "        context.count = context.count + 1\n",
    "    else:\n",
    "        order_target(context.sym, -1)\n",
    "        context.count = context.count - 1\n",
    "\n",
    "    record(code=_data.current(context.sym, \"price\"), ma5=ma5, ma20=ma20, count=context.count)\n",
    "\n",
    "    \n",
    "algo = TradingAlgorithm(initialize=initialize, handle_data=handle_data)\n",
    "result = algo.run(data)\n",
    "# type(result)\n",
    "result[['ma5', 'ma20']].plot()\n",
    "plt.plot(result.index, result[['ma5', 'ma20']])\n",
    "\n",
    "# result[['count']].plot()\n",
    "# plt.plot(result.index, result[['count']])"
   ]
  },
  {
   "cell_type": "code",
   "execution_count": null,
   "metadata": {},
   "outputs": [],
   "source": [
    "# 이동평균선 알고리즘에 대한 백테스팅, 매도 매수 표시.\n",
    "\n",
    "# 애플 주식 코드.\n",
    "code = 'AAPL'\n",
    "# aapl_zipline : data\n",
    "data = aapl_zipline\n",
    "\n",
    "def initialize(context):\n",
    "    context.i = 0\n",
    "    context.hold = False  # 보유상태\n",
    "    context.sym = symbol(code)\n",
    "\n",
    "def handle_data(context, _data):\n",
    "    context.i += 1\n",
    "    if context.i < 20:\n",
    "        return\n",
    "\n",
    "    buy = False\n",
    "    sell = False\n",
    "\n",
    "    ma5 = _data.history(context.sym, 'price', 5, '1d').mean()\n",
    "    ma20 = _data.history(context.sym, 'price', 20, '1d').mean()\n",
    "\n",
    "    if ma5 > ma20 and context.hold == False:\n",
    "        order_target(context.sym, 100)\n",
    "        context.hold = True\n",
    "        buy = True\n",
    "    elif ma5 < ma20 and context.hold:\n",
    "        order_target(context.sym, -100)\n",
    "        context.hold = False\n",
    "        sell = True\n",
    "\n",
    "    record(code=_data.current(context.sym, \"price\"), ma5=ma5, ma20=ma20, buy=buy, sell=sell)\n",
    "\n",
    "algo = TradingAlgorithm(initialize=initialize, handle_data=handle_data)\n",
    "result = algo.run(data)\n",
    "print(result.columns)\n",
    "print(result.index)\n",
    "\n",
    "# plt.plot(result.index, result.portfolio_value)\n",
    "# plt.show()\n",
    "\n",
    "plt.plot(result.index, result.ma5)\n",
    "plt.plot(result.index, result.ma20)\n",
    "plt.legend(loc='best')\n",
    "plt.plot(result.ix[result.buy == True].index, result.ma5[result.buy == True], '^')\n",
    "plt.plot(result.ix[result.sell == True].index, result.ma5[result.sell == True], 'v')"
   ]
  },
  {
   "cell_type": "code",
   "execution_count": null,
   "metadata": {},
   "outputs": [],
   "source": [
    "# GS\n",
    "code = '078930.KS'\n",
    "start = datetime.datetime(2019, 1, 1)\n",
    "end = datetime.datetime(2019, 1, 31)\n",
    "data = get_data_for_zipline(code, start, end)\n",
    "\n",
    "def initialize(context):\n",
    "    context.i = 0\n",
    "    context.sym = symbol(code)\n",
    "    set_commission(commission.PerDollar(cost=0.2))\n",
    "\n",
    "def handle_data(context, _data):\n",
    "    # order_target(context.sym, 1)\n",
    "    order(context.sym, 1)\n",
    "\n",
    "# algo = TradingAlgorithm(initialize=initialize, handle_data=handle_data, capital_base=100000000.0)\n",
    "\n",
    "simulatioin_param = create_simulation_parameters(capital_base=1000000)\n",
    "algo = TradingAlgorithm(sim_params=simulatioin_param, initialize=initialize, handle_data=handle_data)\n",
    "result = algo.run(data)\n",
    "\n",
    "print(result[['starting_cash', 'ending_cash', 'ending_value']])"
   ]
  },
  {
   "cell_type": "markdown",
   "metadata": {},
   "source": [
    "## [matplotlib](https://matplotlib.org/index.html)를 이용한 데이터 시각화\n",
    "\n",
    "#### [pyplot](https://matplotlib.org/tutorials/introductory/pyplot.html#sphx-glr-tutorials-introductory-pyplot-py) 기초\n",
    "\n",
    "> matplotlib 구성\n",
    "\n",
    "![matplotlib구성](./res/matplotlib_01.png)\n",
    "\n",
    "\n",
    "#### 수정 종가와 거래량 한번에 그리기\n",
    "\n",
    "#### 캔들 스틱 차트 그리기\n",
    "\n",
    "#### bar 차트 그리기\n",
    "\n",
    "#### pie 차트 그리기\n"
   ]
  },
  {
   "cell_type": "code",
   "execution_count": null,
   "metadata": {},
   "outputs": [],
   "source": [
    "import matplotlib.pyplot as plt\n",
    "import numpy as np\n",
    "import pandas_datareader.data as pdata\n",
    "import datetime"
   ]
  },
  {
   "cell_type": "code",
   "execution_count": null,
   "metadata": {},
   "outputs": [],
   "source": [
    "x = np.linspace(0, 2, 100)\n",
    "\n",
    "plt.plot(x, x, label='linear')\n",
    "plt.plot(x, x**2, label='quadratic')\n",
    "plt.plot(x, x**3, label='cubic')\n",
    "\n",
    "plt.xlabel('x label')\n",
    "plt.ylabel('y label')\n",
    "\n",
    "plt.title(\"Simple Plot\")\n",
    "\n",
    "plt.legend()\n",
    "\n",
    "plt.show()"
   ]
  },
  {
   "cell_type": "code",
   "execution_count": null,
   "metadata": {},
   "outputs": [],
   "source": [
    "plt.plot([1, 2, 3, 8]) # y\n",
    "plt.show()"
   ]
  },
  {
   "cell_type": "code",
   "execution_count": null,
   "metadata": {},
   "outputs": [],
   "source": [
    "x = range(0,100)\n",
    "y = [v*v for v in x]\n",
    "\n",
    "plt.plot(x,y,'ro') # red, o\n",
    "plt.show()"
   ]
  },
  {
   "cell_type": "code",
   "execution_count": null,
   "metadata": {},
   "outputs": [],
   "source": [
    "# Figure와 subplots\n",
    "fig = plt.figure()\n",
    "ax1 = fig.add_subplot(2, 2, 1)\n",
    "ax2 = fig.add_subplot(2, 2, 2)\n",
    "ax3 = fig.add_subplot(2, 2, 3)\n",
    "ax4 = fig.add_subplot(2, 2, 4)\n",
    "\n",
    "x = range(0, 100)\n",
    "y = [v*v for v in x]\n",
    "\n",
    "ax1.plot(x,y)\n",
    "ax2.bar(x,y)\n",
    "ax3.plot(y,x)\n",
    "\n",
    "plt.show()"
   ]
  },
  {
   "cell_type": "code",
   "execution_count": null,
   "metadata": {},
   "outputs": [],
   "source": [
    "# 라벨 표시하기 (xlabel, ylabel)\n",
    "\n",
    "# data 만들기\n",
    "x = np.arange(0.0,2*np.pi,0.1)\n",
    "sin_y = np.sin(x)\n",
    "cos_y = np.cos(x)\n",
    "\n",
    "# plot 설정.\n",
    "fig = plt.figure()\n",
    "ax1 = fig.add_subplot(2,1,1) # 2행 1열\n",
    "ax2 = fig.add_subplot(2,1,2) # 2행 1열\n",
    "\n",
    "# data 연결\n",
    "ax1.plot(x,sin_y,'b--')\n",
    "ax2.plot(x,con_y,'r--')\n",
    "\n",
    "# 라벨 표시\n",
    "ax1.set_xlabel('x')\n",
    "ax1.set_ylabel('sin(x)')\n",
    "\n",
    "ax2.set_xlabel('x')\n",
    "ax2.set_ylabel('cos(x)')\n",
    "\n",
    "#plot show\n",
    "plt.show()"
   ]
  },
  {
   "cell_type": "code",
   "execution_count": null,
   "metadata": {},
   "outputs": [],
   "source": [
    "# 범례 표시하기(legend)\n",
    "\n",
    "# 시간 설정(옵션)\n",
    "start = datetime.datetime(2017, 1, 1)\n",
    "end = datetime.datetime.now()\n",
    "\n",
    "# 데이터 요청\n",
    "lg = pdata.DataReader(\"066570.KS\", \"yahoo\", start, end)\n",
    "samsung = pdata.DataReader(\"005930.KS\", \"yahoo\", start, end)\n",
    "\n",
    "print(type(samsung))\n",
    "print(samsung.index)\n",
    "print(samsung.columns)\n",
    "\n",
    "plt.plot(lg.index, lg['Adj Close'], label='LG')\n",
    "plt.plot(samsung.index, samsung['Adj Close'], label='Samsung')\n",
    "\n",
    "#범례(legend) 표시하기\n",
    "plt.legend(loc='upper right')\n",
    "\n",
    "plt.show()"
   ]
  },
  {
   "cell_type": "code",
   "execution_count": null,
   "metadata": {},
   "outputs": [],
   "source": [
    "# https://matplotlib.org/api/_as_gen/matplotlib.pyplot.subplots.html?highlight=subplots#matplotlib.pyplot.subplots\n",
    "fig, ax_list = plt.subplots(2, 2)\n",
    "\n",
    "ax_list[0][0].plot([1, 2, 3, 4])"
   ]
  },
  {
   "cell_type": "code",
   "execution_count": null,
   "metadata": {},
   "outputs": [],
   "source": [
    "# 다양한 그래프 그리기\n",
    "# 수정 종가와 거래량 한번에 그리기\n",
    "\n",
    "sk_hynix = pdata.DataReader(\"000660.KS\", \"yahoo\")\n",
    "\n",
    "# https://matplotlib.org/api/_as_gen/matplotlib.pyplot.figure.html#matplotlib.pyplot.figure\n",
    "fig = plt.figure(figsize=(12, 8)) # 비율 조절 option.\n",
    "\n",
    "# grid 모양, 위치, 영역:행(row), 영역:열(column)\n",
    "top_axes = plt.subplot2grid((4,4), (0,0), rowspan=3, colspan=4)\n",
    "bottom_axes = plt.subplot2grid((4,4), (3,0), rowspan=1, colspan=4)\n",
    "bottom_axes.get_yaxis().get_major_formatter().set_scientific(False) # 오일러 상수(e)의 지수 형태 false\n",
    "\n",
    "top_axes.plot(sk_hynix.index, sk_hynix['Adj Close'], label='종가')\n",
    "bottom_axes.plot(sk_hynix.index, sk_hynix['Volume'])\n",
    "\n",
    "plt.tight_layout() # 자동으로 최대 크기로 출력\n",
    "plt.show()"
   ]
  },
  {
   "cell_type": "code",
   "execution_count": 20,
   "metadata": {},
   "outputs": [
    {
     "name": "stdout",
     "output_type": "stream",
     "text": [
      "               High      Low     Open    Close     Volume     Adj Close\n",
      "Date                                                                   \n",
      "2018-03-02  77800.0  75900.0  76300.0  77400.0  2673152.0  75468.218750\n",
      "2018-03-05  78900.0  77100.0  77500.0  78300.0  3415061.0  76345.757812\n",
      "2018-03-06  82500.0  80000.0  80100.0  82400.0  7588369.0  80343.429688\n",
      "2018-03-07  83900.0  82400.0  83600.0  82700.0  4992841.0  80635.945312\n",
      "2018-03-08  84300.0  81800.0  83900.0  83500.0  4440076.0  81415.976562\n",
      "2018-03-09  85900.0  83100.0  84400.0  83300.0  5159197.0  81220.968750\n",
      "2018-03-12  85600.0  84300.0  84900.0  84900.0  2744795.0  82781.031250\n",
      "2018-03-13  90000.0  87600.0  88000.0  90000.0  8775741.0  87753.750000\n",
      "2018-03-14  90900.0  89200.0  89300.0  90700.0  5939290.0  88436.273438\n",
      "2018-03-15  90500.0  88600.0  90300.0  89600.0  4106667.0  87363.726562\n",
      "2018-03-16  89900.0  87200.0  88500.0  89800.0  5006430.0  87558.734375\n",
      "2018-03-19  91500.0  89500.0  90200.0  89900.0  3743718.0  87656.242188\n",
      "2018-03-20  89700.0  88000.0  88900.0  89600.0  3083666.0  87363.726562\n",
      "2018-03-21  90300.0  88000.0  89600.0  88400.0  2942484.0  86193.679688\n",
      "2018-03-22  89300.0  88000.0  88800.0  88600.0  2698169.0  86388.687500\n",
      "2018-03-23  86400.0  82800.0  85100.0  83100.0  7310739.0  81025.960938\n",
      "2018-03-26  84000.0  81000.0  82300.0  84000.0  6121334.0  81903.500000\n",
      "2018-03-27  84800.0  80100.0  84700.0  81400.0  7184488.0  79368.390625\n",
      "2018-03-28  82200.0  79600.0  79900.0  80300.0  4820673.0  78295.843750\n",
      "2018-03-29  81300.0  79600.0  80800.0  80300.0  3618849.0  78295.843750\n",
      "2018-03-30  83300.0  81100.0  81200.0  81300.0  3681673.0  79270.882812\n",
      "<class 'pandas._libs.tslibs.timestamps.Timestamp'>\n",
      "2018.03.02\n"
     ]
    },
    {
     "data": {
      "image/png": "[encoded data removed]",
      "text/plain": [
       "<Figure size 864x576 with 1 Axes>"
      ]
     },
     "metadata": {
      "needs_background": "light"
     },
     "output_type": "display_data"
    }
   ],
   "source": [
    "# 다양한 그래프 그리기\n",
    "# 캔들 차트 그리기 \n",
    "# pip install mpl_finance\n",
    "\n",
    "import pandas_datareader.data as pdata\n",
    "import datetime\n",
    "import matplotlib.pyplot as plt\n",
    "import mpl_finance\n",
    "import matplotlib.ticker as ticker\n",
    "\n",
    "# data SK 하이닉스 가져오기\n",
    "start = datetime.datetime(2018, 3, 1)\n",
    "end = datetime.datetime(2018, 3, 31)\n",
    "skhynix = pdata.DataReader(\"000660.KS\", \"yahoo\", start, end)\n",
    "\n",
    "# 데이터 확인\n",
    "print(skhynix)\n",
    "print(type(skhynix.index[0])) # Timestamp\n",
    "print(skhynix.index[0].strftime('%Y.%m.%d'))\n",
    "\n",
    "#차트 설정.\n",
    "fig = plt.figure(figsize=(12, 8))\n",
    "ax = fig.add_subplot(111)\n",
    "\n",
    "# type1:x축 index 데이터  \n",
    "\n",
    "# day_list = range(len(skhynix))\n",
    "# name_list = []\n",
    "# for day in skhynix.index:\n",
    "#     name_list.append(day.strftime('%d'))\n",
    "\n",
    "# type2:x축 index 데이터 (월요일)  \n",
    "# enumerate : https://docs.python.org/3/library/functions.html?highlight=enumerate#enumerate\n",
    "# Timestamp : http://pandas.pydata.org/pandas-docs/stable/reference/api/pandas.Timestamp.html\n",
    "day_list=[]\n",
    "name_list=[]\n",
    "for i,day in enumerate(skhynix.index):\n",
    "    if day.dayofweek == 0:\n",
    "        day_list.append(i)\n",
    "        name_list.append(day.strftime('%Y.%m.%d (Mon)'))\n",
    "\n",
    "ax.xaxis.set_major_locator(ticker.FixedLocator(day_list))\n",
    "ax.xaxis.set_major_formatter(ticker.FixedFormatter(name_list))\n",
    "\n",
    "# 캔들 차트 \n",
    "mpl_finance.candlestick2_ohlc(ax, skhynix['Open'], skhynix['High'], skhynix['Low'], skhynix['Close'], width=0.5, colorup='r', colordown='b')\n",
    "plt.show()"
   ]
  },
  {
   "cell_type": "code",
   "execution_count": 48,
   "metadata": {},
   "outputs": [
    {
     "data": {
      "image/png": "[encoded data removed]",
      "text/plain": [
       "<Figure size 864x576 with 1 Axes>"
      ]
     },
     "metadata": {
      "needs_background": "light"
     },
     "output_type": "display_data"
    }
   ],
   "source": [
    "import matplotlib.pyplot as plt\n",
    "import numpy as np\n",
    "from matplotlib import font_manager, rc\n",
    "from matplotlib import style\n",
    "\n",
    "#폰트 설정.\n",
    "# font_name = font_manager.FontProperties(fname=\"res/BMJUA.ttf\").get_name()\n",
    "# rc('font', family=font_name)\n",
    "# style.use('ggplot')\n",
    "\n",
    "#데이터\n",
    "industry = ['통신업', '의료정밀', '운수창고업', '의약품', '음식료품', '전기가스업', '서비스업', '전기전자', '종이목재', '증권']\n",
    "fluctuations = [1.83, 1.30, 1.30, 1.26, 1.06, 0.93, 0.77, 0.68, 0.65, 0.61]\n",
    "pos = np.arange(len(industry))\n",
    "\n",
    "#차트 설정.\n",
    "fig = plt.figure(figsize=(12, 8))\n",
    "ax = fig.add_subplot(111)\n",
    "\n",
    "## x축 기준 그리기.\n",
    "rects = plt.bar(pos, fluctuations, align='center', width=0.5)\n",
    "plt.xticks(pos, industry)\n",
    "for i, rect in enumerate(rects):\n",
    "    ax.text(rect.get_x() + rect.get_width() / 2.0, 0.95 * rect.get_height(), str(fluctuations[i]) + '%', ha='center')\n",
    "\n",
    "## y축 기준 그리기.\n",
    "# rects = plt.barh(ypos, fluctuations, align='center', height=0.5)\n",
    "# plt.yticks(ypos, industry)\n",
    "# for i, rect in enumerate(rects):\n",
    "#     ax.text(0.95 * rect.get_width(), rect.get_y() + rect.get_height() / 2.0, str(fluctuations[i]) + '%', ha='right', va='center')\n",
    "\n",
    "plt.xlabel('등락률')\n",
    "plt.show()\n"
   ]
  },
  {
   "cell_type": "code",
   "execution_count": 3,
   "metadata": {},
   "outputs": [
    {
     "data": {
      "image/png": "[encoded data removed]",
      "text/plain": [
       "<Figure size 432x288 with 1 Axes>"
      ]
     },
     "metadata": {},
     "output_type": "display_data"
    }
   ],
   "source": [
    "import matplotlib.pyplot as plt\n",
    "import numpy as np\n",
    "from matplotlib import font_manager, rc\n",
    "from matplotlib import style\n",
    "import os\n",
    "\n",
    "# font_file = os.getcwd() + \"/res/BMJUA_ttf.ttf\"\n",
    "# font_name = font_manager.FontProperties(fname=font_file).get_name()\n",
    "# rc('font', family=font_name)\n",
    "# style.use('ggplot')\n",
    "\n",
    "colors = ['gold', 'yellowgreen', 'lightcoral', 'lightskyblue', 'red']\n",
    "labels = ['삼성전자', 'SK하이닉스', 'LG전자', '네이버', '카카오']\n",
    "ratio = [50, 20, 10, 10, 10]\n",
    "explode = (0.0, 0.1, 0.0, 0.0, 0.0)\n",
    "\n",
    "# autopct: 각 데이터 %출력, 1.1 소수점 한자리, 1.2 소수점 두자리\n",
    "# startangle: 데이터 출력 각도, 시계 반대반향으로 그린다.\n",
    "plt.pie(ratio, explode=explode, labels=labels, colors=colors, autopct='%1.2f%%', shadow=True, startangle=90)\n",
    "plt.show()"
   ]
  },
  {
   "cell_type": "markdown",
   "metadata": {},
   "source": [
    "## pyqt, Designer 사용하기\n",
    "\n",
    "#### Designer UI파일을 파이썬 코드로 변환하기\n",
    "\n",
    "[PuQt5 Reference Guide](https://www.riverbankcomputing.com/static/Docs/PyQt5/index.html)\n",
    "\n",
    "\n",
    "```\n",
    "python -m PyQt5.uic.pyuic -x qt_test.ui -o qt_test.py\n",
    "```\n",
    "\n",
    "[샘플코드 보기 (playgroud/pyqt_test.py)](./playground/pyqt_test.py)\n",
    "\n",
    "\n",
    "tip : [Auto-expanding layout with Qt-Designer](https://stackoverflow.com/questions/3492739/auto-expanding-layout-with-qt-designer) : resize하고 싶은 뷰의 부모 선택>우클릭>배치>layout 선택 하면 된다\n"
   ]
  },
  {
   "cell_type": "code",
   "execution_count": 6,
   "metadata": {},
   "outputs": [
    {
     "name": "stdout",
     "output_type": "stream",
     "text": [
      "clicked\n"
     ]
    }
   ],
   "source": [
    "import sys\n",
    "import os\n",
    "\n",
    "# sys.path.insert(0, os.getcwd()+'/res/playground')\n",
    "from playground import pyqt_test\n",
    "\n",
    "# pyqt_test.show_label()\n",
    "pyqt_test.show_button()"
   ]
  },
  {
   "cell_type": "code",
   "execution_count": null,
   "metadata": {},
   "outputs": [],
   "source": [
    "# class 이용\n",
    "pyqt_test.show_window()"
   ]
  },
  {
   "cell_type": "code",
   "execution_count": 5,
   "metadata": {},
   "outputs": [],
   "source": [
    "# Designer 실행 qt_test.ui 만들고, 로딩.\n",
    "pyqt_test.show_window_of_qtdesigner()"
   ]
  },
  {
   "cell_type": "code",
   "execution_count": 8,
   "metadata": {},
   "outputs": [],
   "source": [
    "# Designer 실행 qt_layout_test.ui\n",
    "# tab layout + auto expanding layout\n",
    "pyqt_test.show_layout_of_qtdesigner()"
   ]
  },
  {
   "cell_type": "code",
   "execution_count": 9,
   "metadata": {},
   "outputs": [],
   "source": [
    "# 078930\n",
    "pyqt_test.show_chart_of_qtdesigner()"
   ]
  }
 ],
 "metadata": {
  "kernelspec": {
   "display_name": "Python 3",
   "language": "python",
   "name": "python3"
  },
  "language_info": {
   "codemirror_mode": {
    "name": "ipython",
    "version": 3
   },
   "file_extension": ".py",
   "mimetype": "text/x-python",
   "name": "python",
   "nbconvert_exporter": "python",
   "pygments_lexer": "ipython3",
   "version": "3.6.8"
  }
 },
 "nbformat": 4,
 "nbformat_minor": 2
}
