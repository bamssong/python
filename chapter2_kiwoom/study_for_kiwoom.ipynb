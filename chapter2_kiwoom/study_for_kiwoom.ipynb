{
 "cells": [
  {
   "cell_type": "markdown",
   "metadata": {},
   "source": [
    "## 키움증권 개발 환경 구축 (pycharm으로 테스트 할 것)\n",
    "1.키움증권 계좌 개설 :  모바일(MTS) 키움증권 비대면 계좌개설 앱 설치 후 계좌 개설.\n",
    "\n",
    "2.[키움증권 홈페이지](https://www.kiwoom.com/)\n",
    "\n",
    "- STEP 1. Open API 사용신청 합니다.\n",
    "- STEP 2. OpenAPI+ 모듈 다운로드 및 설치\n",
    "- STEP 3. Open API OCX 탑재 프로그램 제작 및 KOA Studio 활용\n",
    "- STEP 4. 모의환경 테스트\n",
    "\n",
    "[자세히보기](https://www2.kiwoom.com/nkw.templateFrameSet.do?m=m1408000000)\n",
    "\n",
    "\n",
    "### 개발환경\n",
    "\n",
    "- 키움 Open API 는 프로그램 개발 확장성을 고려하여 OCX 컨트롤로 제작 지원합니다.\n",
    "- 사용자 편의에 따라 VB, 엑셀, 웹기반, MFC 등으로 프로그램 제작이 가능합니다.\n",
    "- 데이터 요청 및 수신은 TR 서비스명을 검색한 후 OCX를 통해 API 함수를 호출하는 방식으로 진행합니다.\n",
    "\n",
    "\n",
    "\n",
    "### 기타\n",
    "- KOA Studio 오류 발생 시 [링크](https://goni9071.tistory.com/entry/%ED%82%A4%EC%9B%80-KOAStudioSAexe-KOA-%EC%8A%A4%ED%8A%9C%EB%94%94%EC%98%A4-%EC%8B%A4%ED%96%89%EC%8B%9C-mfc100dll-%EC%98%A4%EB%A5%98)\n",
    "\n",
    "\n",
    "## 키움증권 OPEN API 이용하기\n",
    "\n",
    "1. WINDOW 환경에서만 가능\n",
    "2. python 32bit interpreter 생성, 32bit pyqt5 설치 -> [참고링크](https://sijoo.tistory.com/405)\n",
    "\n",
    "2.1 anaconda prompy 실행\n",
    "\n",
    "2.2 interpreter 목록 보기 \n",
    "> conda env list\n",
    "\n",
    "2.3 3.5 ver, 32bit 생성.\n",
    "> set CONDA_FORCE_32BIT=1\n",
    "\n",
    "> conda create -n py35_32bit python=3.5\n",
    "\n",
    "2.4 생성 활성화 시키기.\n",
    "> activate py35_32bit\n",
    "\n",
    "2.5 pyqt5 32bit용 설치.\n",
    "> pip install pyqt5\n",
    "\n",
    "3. 생성 후 anaconda navigator 사용 시, 'py35_32bit' 활성화 후 쥬피터 실행.\n",
    "4. pycharm 사용 시 interpreter 'py35_32bit' 설정 \n",
    "\n",
    "\n",
    "etc 설정 돌리기 set CONDA_FORCE_32BIT=\n"
   ]
  },
  {
   "cell_type": "code",
   "execution_count": null,
   "metadata": {},
   "outputs": [],
   "source": []
  }
 ],
 "metadata": {
  "kernelspec": {
   "display_name": "Python 3",
   "language": "python",
   "name": "python3"
  },
  "language_info": {
   "codemirror_mode": {
    "name": "ipython",
    "version": 3
   },
   "file_extension": ".py",
   "mimetype": "text/x-python",
   "name": "python",
   "nbconvert_exporter": "python",
   "pygments_lexer": "ipython3",
   "version": "3.7.1"
  }
 },
 "nbformat": 4,
 "nbformat_minor": 2
}
